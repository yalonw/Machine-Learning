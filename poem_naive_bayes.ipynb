{
 "cells": [
  {
   "cell_type": "markdown",
   "metadata": {},
   "source": [
    "# [Naive Bayes 單純貝氏定理](https://scikit-learn.org/stable/modules/naive_bayes.html)\n",
    "\n",
    "- 單純貝氏（Naive Bayes）屬於**分類型問題（classification）**\n",
    "- 公式：$ \\small P(A) \\times P \\large(\\frac{B}{A}) \\small = P(B) \\times P \\large(\\frac{A}{B}) \\implies \\small P \\large(\\frac{B}{A})\\small = \\large \\frac{P(B) \\times P(A|B)}{P(A)} $"
   ]
  },
  {
   "cell_type": "markdown",
   "metadata": {},
   "source": [
    "- $ \\small P(A) $ ：事件 A 發生的機率\n",
    "- $ \\small P(A|B) $ or $ \\small P(\\large \\frac{A}{B} \\small) $ ：B 條件下，A 發生的機率\n",
    "- $ P(A,B) $ ： A,B 同時發生的機率\n",
    "  - **非獨立事件**：$ \\small P(A,B) = P(A) \\times P \\large(\\frac{B}{A}) \\small = P(B) \\times P \\large(\\frac{A}{B}) $    \n",
    "    例子：今天下雨，而明天再下雨的機率\n",
    "  - **獨　立事件**：$ \\small P(A,B) = P(A) \\times P(B) $    \n",
    "    例子：二人各自擲骰子的機率"
   ]
  },
  {
   "cell_type": "markdown",
   "metadata": {},
   "source": [
    "-------------------------------------------------------------------------------------- \n",
    "- 遇到**文字型資料**時，無法使用決策樹做機器學習，因為**欄位太多**\n",
    "- 欄位太多會讓資料分布很稀疏，會引發「**維度災難 Curse of Dimensionality**」\n",
    "- 欄位太多會造成 (1)演算法無法負荷、(2)需要大量資料才能 cover 更多的欄位\n",
    "- 因此，透過「**單純貝氏定理**」可以解決維度災難的問題。\n",
    "  - 單純貝氏定理，又稱錯誤貝氏，因為假設**獨立事件**\n",
    "  - 而因假設**獨立事件**，故不會出現**維度組合**的狀況\n",
    "  - 因此不需要大量資料，而演算法也可計算得出"
   ]
  },
  {
   "cell_type": "markdown",
   "metadata": {},
   "source": [
    "---------------------------------------------------------------------------------------\n",
    "### 【簡化此題】  \n",
    "**題目：預測詩詞「我 喜歡 你」的作詩者為何人。  \n",
    "目標：機率比大小，機率大者則推斷此人為作詩者。**  \n",
    "\n",
    "$ \\small P \\large(\\frac{\\text{李白}}{\\text{我喜歡你}})\\small = \\large \\frac{P(\\text{李白}) \\times P(\\text{我喜歡你|李白})}{P(\\text{我喜歡你})} $  \n",
    "\n",
    "P(李白|我喜歡你) =（P(李白) × P(我喜歡你|李白)）÷ P(我喜歡你)   \n",
    "   - P(李白) = 任一首詩是李白寫的機率 =（李白的詩(train) ÷ 所有的詩(train)）   \n",
    "   - P(我喜歡你|李白) = 李白寫出我喜歡你這首詩的機率  \n",
    "   - P(我喜歡你) = 任一詩人寫出我喜歡你這首詩的機率     \n",
    "\n",
    "- 因只是要比較機率大小，而 **分母值 = P(我喜歡你)** 難以計算，    \n",
    "  但大家都是除相同的分母，故可直接忽略不考慮分母沒關係XD\n",
    "  \n",
    "獨　立事件：P(我喜歡你|李白) = P(我) × P(喜歡) × P(你) = P(我|李白) × P(喜歡|李白) × P(你|李白)   \n",
    "非獨立事件：P(我喜歡你|李白) = P(我) × P(喜歡|我) × P(你|我喜歡) \n",
    "\n",
    "  \n",
    "- 因只是要比較機率大小，故可用**獨立事件**的方式計算，  \n",
    "  雖然此計算的機率會失準、有誤差，但大家在相同條件下，所以沒關係XD  \n",
    "  若是用**非獨立事件**的方式計算，演算法算不出來QQ "
   ]
  },
  {
   "cell_type": "markdown",
   "metadata": {},
   "source": [
    "---------------------------------------------------------------------------------------\n",
    "- [Multinomial Naive Bayes](https://scikit-learn.org/stable/modules/naive_bayes.html#multinomial-naive-bayes)：  \n",
    "  - 最常使用，在文字型資料的模型訓練時\n",
    "  - 使用時機：特徵是固定值或分類型，如擲骰子只會有1~6\n",
    "  - 計算方法：透過公式來計算機率值\n",
    "  - 公式：$ \\large \\hat{\\theta}_{yi} = \\frac{ N_{yi} + \\alpha}{N_y + \\alpha_n} $  \n",
    "    $ N_{y} =$ 某人總用詞數   \n",
    "    $ N_{yi} =$ 某人用某字的次數   \n",
    "    $ \\alpha_n =$ 總欄位   \n",
    "    $ \\alpha   = 1 $    \n",
    "  - smoothing 平滑化：  \n",
    "    為了避免機率出現「零」而影響預測，因此設置 Laplace smoothing：$\\alpha = 1$  \n",
    "  \n",
    "  \n",
    "- [Gaussian Naive Bayes](https://scikit-learn.org/stable/modules/naive_bayes.html#gaussian-naive-bayes)： \n",
    "  - 不常用\n",
    "  - 使用時機：特徵是連續值 \n",
    "  - 計算方法：透過擬合高斯常態分佈的機率，來計算機率值\n",
    "  \n",
    "- [Bernoulli Naive Bayes](https://scikit-learn.org/stable/modules/naive_bayes.html#bernoulli-naive-bayes)： \n",
    "  - 二值型 MultinomialNB\n",
    "---------------------------------------------------------------------------------------"
   ]
  },
  {
   "cell_type": "markdown",
   "metadata": {},
   "source": [
    "## step1: 處理資料"
   ]
  },
  {
   "cell_type": "code",
   "execution_count": 1,
   "metadata": {},
   "outputs": [
    {
     "data": {
      "text/html": [
       "<div>\n",
       "<style scoped>\n",
       "    .dataframe tbody tr th:only-of-type {\n",
       "        vertical-align: middle;\n",
       "    }\n",
       "\n",
       "    .dataframe tbody tr th {\n",
       "        vertical-align: top;\n",
       "    }\n",
       "\n",
       "    .dataframe thead th {\n",
       "        text-align: right;\n",
       "    }\n",
       "</style>\n",
       "<table border=\"1\" class=\"dataframe\">\n",
       "  <thead>\n",
       "    <tr style=\"text-align: right;\">\n",
       "      <th></th>\n",
       "      <th>作者</th>\n",
       "      <th>詩名</th>\n",
       "      <th>內容</th>\n",
       "    </tr>\n",
       "  </thead>\n",
       "  <tbody>\n",
       "    <tr>\n",
       "      <th>0</th>\n",
       "      <td>李白</td>\n",
       "      <td>菩薩蠻·平林漠漠煙如織</td>\n",
       "      <td>平林漠漠煙如織，寒山一帶傷心碧。\\r\\n暝色入高樓，有人樓上愁。玉階空佇立，宿鳥歸飛急。\\r...</td>\n",
       "    </tr>\n",
       "    <tr>\n",
       "      <th>1</th>\n",
       "      <td>李白</td>\n",
       "      <td>把酒問月</td>\n",
       "      <td>青天有月來幾時，我今停杯一問之：人攀明月不可得，月行卻與人相隨？皎如飛鏡臨丹闕，綠煙滅儘清輝...</td>\n",
       "    </tr>\n",
       "    <tr>\n",
       "      <th>2</th>\n",
       "      <td>李白</td>\n",
       "      <td>春思</td>\n",
       "      <td>燕草如碧絲，秦桑低綠枝。當君懷歸日，是妾斷腸時。春風不相識，何事入羅幃。</td>\n",
       "    </tr>\n",
       "    <tr>\n",
       "      <th>3</th>\n",
       "      <td>李白</td>\n",
       "      <td>春夜洛城聞笛</td>\n",
       "      <td>誰家玉笛暗飛聲，散入春風滿洛城。此夜曲中聞折柳，何人不起故園情。</td>\n",
       "    </tr>\n",
       "    <tr>\n",
       "      <th>4</th>\n",
       "      <td>李白</td>\n",
       "      <td>古風 其十九</td>\n",
       "      <td>西上蓮花山，迢迢見明星。(西上 一作：西嶽)素手把芙蓉，虛步躡太清。霓裳曳廣帶，飄拂升天行。...</td>\n",
       "    </tr>\n",
       "    <tr>\n",
       "      <th>...</th>\n",
       "      <td>...</td>\n",
       "      <td>...</td>\n",
       "      <td>...</td>\n",
       "    </tr>\n",
       "    <tr>\n",
       "      <th>2726</th>\n",
       "      <td>白居易</td>\n",
       "      <td>彆元九後詠所懷</td>\n",
       "      <td>零落桐葉雨，蕭條槿花風。悠悠早秋意，生此幽閒中。況與故人彆，中懷正無悰。勿雲不相送，心到青門...</td>\n",
       "    </tr>\n",
       "    <tr>\n",
       "      <th>2727</th>\n",
       "      <td>白居易</td>\n",
       "      <td>早秋曲江感懷</td>\n",
       "      <td>離離暑雲散，嫋嫋涼風起。池上秋又來，荷花半成子。朱顏易銷歇，白日無窮已。人壽不如山，年光急於...</td>\n",
       "    </tr>\n",
       "    <tr>\n",
       "      <th>2728</th>\n",
       "      <td>白居易</td>\n",
       "      <td>東墟晚歇　時退居渭村。</td>\n",
       "      <td>涼風冷露蕭索天，黃蒿紫菊荒涼田。繞塚秋花少顏色，細蟲小蝶飛翻翻。中有騰騰獨行者，手拄漁竿不騎...</td>\n",
       "    </tr>\n",
       "    <tr>\n",
       "      <th>2729</th>\n",
       "      <td>白居易</td>\n",
       "      <td>南秦雪</td>\n",
       "      <td>往歲曾為西邑吏，慣從駱口到南秦。\\r\\n三時雲冷多飛雪，二月山寒少有春。\\r\\n我思舊事猶惆...</td>\n",
       "    </tr>\n",
       "    <tr>\n",
       "      <th>2730</th>\n",
       "      <td>白居易</td>\n",
       "      <td>寄蘄州簟與元九因題六韻　時元九鰥居。</td>\n",
       "      <td>笛竹出蘄春，霜刀劈翠筠。織成雙鎖簟，寄與獨眠人。卷作筒中信，舒為席上珍。滑如鋪薤葉，冷似臥龍...</td>\n",
       "    </tr>\n",
       "  </tbody>\n",
       "</table>\n",
       "<p>2731 rows × 3 columns</p>\n",
       "</div>"
      ],
      "text/plain": [
       "       作者                  詩名  \\\n",
       "0      李白         菩薩蠻·平林漠漠煙如織   \n",
       "1      李白                把酒問月   \n",
       "2      李白                  春思   \n",
       "3      李白              春夜洛城聞笛   \n",
       "4      李白              古風 其十九   \n",
       "...   ...                 ...   \n",
       "2726  白居易             彆元九後詠所懷   \n",
       "2727  白居易              早秋曲江感懷   \n",
       "2728  白居易         東墟晚歇　時退居渭村。   \n",
       "2729  白居易                 南秦雪   \n",
       "2730  白居易  寄蘄州簟與元九因題六韻　時元九鰥居。   \n",
       "\n",
       "                                                     內容  \n",
       "0     平林漠漠煙如織，寒山一帶傷心碧。\\r\\n暝色入高樓，有人樓上愁。玉階空佇立，宿鳥歸飛急。\\r...  \n",
       "1     青天有月來幾時，我今停杯一問之：人攀明月不可得，月行卻與人相隨？皎如飛鏡臨丹闕，綠煙滅儘清輝...  \n",
       "2                  燕草如碧絲，秦桑低綠枝。當君懷歸日，是妾斷腸時。春風不相識，何事入羅幃。  \n",
       "3                      誰家玉笛暗飛聲，散入春風滿洛城。此夜曲中聞折柳，何人不起故園情。  \n",
       "4     西上蓮花山，迢迢見明星。(西上 一作：西嶽)素手把芙蓉，虛步躡太清。霓裳曳廣帶，飄拂升天行。...  \n",
       "...                                                 ...  \n",
       "2726  零落桐葉雨，蕭條槿花風。悠悠早秋意，生此幽閒中。況與故人彆，中懷正無悰。勿雲不相送，心到青門...  \n",
       "2727  離離暑雲散，嫋嫋涼風起。池上秋又來，荷花半成子。朱顏易銷歇，白日無窮已。人壽不如山，年光急於...  \n",
       "2728  涼風冷露蕭索天，黃蒿紫菊荒涼田。繞塚秋花少顏色，細蟲小蝶飛翻翻。中有騰騰獨行者，手拄漁竿不騎...  \n",
       "2729  往歲曾為西邑吏，慣從駱口到南秦。\\r\\n三時雲冷多飛雪，二月山寒少有春。\\r\\n我思舊事猶惆...  \n",
       "2730  笛竹出蘄春，霜刀劈翠筠。織成雙鎖簟，寄與獨眠人。卷作筒中信，舒為席上珍。滑如鋪薤葉，冷似臥龍...  \n",
       "\n",
       "[2731 rows x 3 columns]"
      ]
     },
     "execution_count": 1,
     "metadata": {},
     "output_type": "execute_result"
    }
   ],
   "source": [
    "import pandas as pd\n",
    "\n",
    "train_df = pd.read_csv(\"poem/poem_train.csv\", encoding=\"utf-8\")\n",
    "test_df  = pd.read_csv(\"poem/poem_test.csv\", encoding=\"utf-8\")\n",
    "train_df"
   ]
  },
  {
   "cell_type": "code",
   "execution_count": 2,
   "metadata": {},
   "outputs": [
    {
     "data": {
      "text/plain": [
       "{0: '李白', 1: '杜甫', 2: '白居易'}"
      ]
     },
     "execution_count": 2,
     "metadata": {},
     "output_type": "execute_result"
    }
   ],
   "source": [
    "# 做模型時，傳入值必須是數字，故將目標/答案轉為：0,1,2\n",
    "trans = {\"李白\":0, \"杜甫\":1, \"白居易\":2}\n",
    "\n",
    "# 反轉目標/答案字典，之後解讀資料用\n",
    "reverse_trans = {v:k for k, v in trans.items()}\n",
    "reverse_trans"
   ]
  },
  {
   "cell_type": "code",
   "execution_count": 3,
   "metadata": {},
   "outputs": [],
   "source": [
    "y_train = train_df[\"作者\"].replace(trans)\n",
    "y_test  = test_df[\"作者\"].replace(trans)"
   ]
  },
  {
   "cell_type": "markdown",
   "metadata": {},
   "source": [
    "### 利用 `jieba` 做文字分詞"
   ]
  },
  {
   "cell_type": "code",
   "execution_count": 4,
   "metadata": {},
   "outputs": [
    {
     "name": "stderr",
     "output_type": "stream",
     "text": [
      "Building prefix dict from the default dictionary ...\n",
      "Loading model from cache C:\\Users\\yalon\\AppData\\Local\\Temp\\jieba.cache\n",
      "Loading model cost 0.681 seconds.\n",
      "Prefix dict has been built successfully.\n"
     ]
    },
    {
     "data": {
      "text/plain": [
       "'平林 漠漠 煙如織 ， 寒山 一帶 傷心 碧 。  暝 色入 高樓 ， 有人 樓上 愁 。 玉階空 佇立 ， 宿鳥 歸 飛急 。'"
      ]
     },
     "execution_count": 4,
     "metadata": {},
     "output_type": "execute_result"
    }
   ],
   "source": [
    "import jieba\n",
    "\n",
    "s = \"平林漠漠煙如織，寒山一帶傷心碧。\\r\\n暝色入高樓，有人樓上愁。玉階空佇立，宿鳥歸飛急。\"\n",
    "s = \" \".join(jieba.cut(s))\n",
    "s = s.replace(\"\\r\",\"\").replace(\"\\n\",\"\")\n",
    "s"
   ]
  },
  {
   "cell_type": "markdown",
   "metadata": {},
   "source": [
    "### 透過 `pandas.Series.apply` 對所有的資料做文字分詞"
   ]
  },
  {
   "cell_type": "code",
   "execution_count": 5,
   "metadata": {},
   "outputs": [],
   "source": [
    "def poemcut(s):\n",
    "    s = \" \".join(jieba.cut(s))\n",
    "    s = s.replace(\"\\r\",\"\").replace(\"\\n\",\"\")\n",
    "    return s\n",
    "\n",
    "train = train_df[\"內容\"].apply(poemcut)\n",
    "test  = test_df[\"內容\"].apply(poemcut)"
   ]
  },
  {
   "cell_type": "markdown",
   "metadata": {},
   "source": [
    "### 計算特徵資料（每首詩對於每個詞）的出現次數\n",
    "sklearn.feature_extraction.text.CountVectorizer \n",
    "\n",
    "- 訓練資料：  \n",
    "  - 統計特徵欄位多少種：`fit`   \n",
    "  - 轉換成特徵出現次數：`transform` （次數是根據特徵欄位統計的）\n",
    "  - 所以使用 `fit_transform(self, raw_documents[, y])`\n",
    "    \n",
    "\n",
    "- 測試資料：  \n",
    "  - 不可以做 `fit`！只要遇到沒看過的欄位資料（特徵），就直接刪除  \n",
    "  - 所以只能 `transform(self, raw_documents)`\n"
   ]
  },
  {
   "cell_type": "markdown",
   "metadata": {},
   "source": [
    "### TfidfVectorizer\n",
    "- 事先計算出特徵重要性（不需要篩選特徵）\n",
    "- 字詞在文章中的重要程度 = Tfidf = 字詞出現次數 × (1 ÷ 字詞常用度) \n",
    "- Tfidf 的值介於 0.01 到 0.1 之間 ，因此 Tfidf 的 $\\alpha$ 要調整為最小值  $\\alpha = 0.01$"
   ]
  },
  {
   "cell_type": "code",
   "execution_count": 6,
   "metadata": {},
   "outputs": [],
   "source": [
    "# from sklearn.feature_extraction.text import TfidfVectorizer\n",
    "\n",
    "# vec = TfidfVectorizer()\n",
    "# x_train = vec.fit_transform(train)\n",
    "# x_test  = vec.transform(test)"
   ]
  },
  {
   "cell_type": "markdown",
   "metadata": {},
   "source": [
    "### CountVectorizer"
   ]
  },
  {
   "cell_type": "code",
   "execution_count": 7,
   "metadata": {},
   "outputs": [],
   "source": [
    "from sklearn.feature_extraction.text import CountVectorizer\n",
    "\n",
    "vec = CountVectorizer()\n",
    "x_train = vec.fit_transform(train)\n",
    "x_test  = vec.transform(test)"
   ]
  },
  {
   "cell_type": "code",
   "execution_count": 8,
   "metadata": {},
   "outputs": [],
   "source": [
    "# 注意！標點符號有沒有被去掉，KeyError表示已經去掉了～\n",
    "# vec.vocabulary_[\"。\"]"
   ]
  },
  {
   "cell_type": "code",
   "execution_count": 9,
   "metadata": {},
   "outputs": [
    {
     "data": {
      "text/plain": [
       "'受塵'"
      ]
     },
     "execution_count": 9,
     "metadata": {},
     "output_type": "execute_result"
    }
   ],
   "source": [
    "# 每個欄位對應到的詞彙，是個字典形式\n",
    "# print(vec.vocabulary_)\n",
    "\n",
    "# 反轉特徵欄位字典，之後解讀資料用\n",
    "reverse_voca = { v:k for k, v in vec.vocabulary_.items()}\n",
    "reverse_voca[8048]"
   ]
  },
  {
   "cell_type": "code",
   "execution_count": 10,
   "metadata": {},
   "outputs": [
    {
     "name": "stdout",
     "output_type": "stream",
     "text": [
      "  (0, 16053)\t1\n",
      "  (0, 29006)\t1\n",
      "  (0, 30177)\t1\n",
      "  (0, 14002)\t1\n",
      "  (0, 139)\t1\n",
      "  (0, 4756)\t1\n",
      "  (0, 39345)\t1\n",
      "  (0, 51400)\t1\n",
      "  (0, 23289)\t1\n",
      "  (0, 25180)\t1\n",
      "  (0, 31382)\t1\n",
      "  (0, 3549)\t1\n",
      "  (0, 13846)\t1\n",
      "  (0, 50568)\t1\n",
      "  (0, 3797)\t1\n",
      "  (0, 26005)\t1\n",
      "  (0, 44987)\t2\n",
      "  (0, 34)\t1\n",
      "  (0, 33975)\t1\n",
      "  (1, 49338)\t1\n",
      "  (1, 16293)\t1\n",
      "  (1, 19165)\t1\n",
      "  (1, 4540)\t1\n",
      "  (1, 85)\t1\n",
      "  (1, 2776)\t1\n",
      "  :\t:\n",
      "  (2729, 8800)\t1\n",
      "  (2729, 6485)\t1\n",
      "  (2729, 3060)\t1\n",
      "  (2730, 25782)\t1\n",
      "  (2730, 6026)\t1\n",
      "  (2730, 36958)\t1\n",
      "  (2730, 15905)\t1\n",
      "  (2730, 44854)\t1\n",
      "  (2730, 29458)\t1\n",
      "  (2730, 2175)\t1\n",
      "  (2730, 31125)\t1\n",
      "  (2730, 40974)\t1\n",
      "  (2730, 35446)\t1\n",
      "  (2730, 49196)\t1\n",
      "  (2730, 6770)\t1\n",
      "  (2730, 48596)\t1\n",
      "  (2730, 7813)\t1\n",
      "  (2730, 1714)\t1\n",
      "  (2730, 39190)\t1\n",
      "  (2730, 28820)\t1\n",
      "  (2730, 38489)\t1\n",
      "  (2730, 28423)\t1\n",
      "  (2730, 51689)\t1\n",
      "  (2730, 8048)\t1\n",
      "  (2730, 23226)\t1\n"
     ]
    },
    {
     "data": {
      "text/plain": [
       "<2731x52294 sparse matrix of type '<class 'numpy.int64'>'\n",
       "\twith 85677 stored elements in Compressed Sparse Row format>"
      ]
     },
     "execution_count": 10,
     "metadata": {},
     "output_type": "execute_result"
    }
   ],
   "source": [
    "# 共有 2731(row) x 52294(column) 筆資料 \n",
    "# sparse matrix 稀疏矩陣，表示只儲存非「零」的值\n",
    "# 故只有 85677 筆資料被存下來\n",
    "\n",
    "# e.g.:( 0 , 16053 )  1\n",
    "#   -> (row, column)  data\n",
    "\n",
    "print(x_train)\n",
    "x_train"
   ]
  },
  {
   "cell_type": "markdown",
   "metadata": {},
   "source": [
    "## step2: 訓練模型"
   ]
  },
  {
   "cell_type": "code",
   "execution_count": 11,
   "metadata": {},
   "outputs": [
    {
     "data": {
      "text/plain": [
       "MultinomialNB(alpha=1.0, class_prior=None, fit_prior=True)"
      ]
     },
     "execution_count": 11,
     "metadata": {},
     "output_type": "execute_result"
    }
   ],
   "source": [
    "from sklearn.naive_bayes import MultinomialNB\n",
    "\n",
    "# CountVectorizer\n",
    "clf = MultinomialNB() \n",
    "# TfidfVectorizer\n",
    "# clf = MultinomialNB(alpha=0.0001)\n",
    "clf.fit(x_train, y_train)"
   ]
  },
  {
   "cell_type": "markdown",
   "metadata": {},
   "source": [
    "## step3: 預測結果"
   ]
  },
  {
   "cell_type": "code",
   "execution_count": 12,
   "metadata": {},
   "outputs": [
    {
     "name": "stdout",
     "output_type": "stream",
     "text": [
      "預測結果： [0, 0, 0, 0, 0, 2, 0, 0, 0, 1, 1, 1, 1, 0, 1, 1, 1, 1, 1, 2, 0, 2, 2, 2, 2, 2, 2, 2, 2, 1]\n",
      "正確結果： [0, 0, 0, 0, 0, 0, 0, 0, 0, 0, 1, 1, 1, 1, 1, 1, 1, 1, 1, 1, 2, 2, 2, 2, 2, 2, 2, 2, 2, 2]\n"
     ]
    }
   ],
   "source": [
    "pre = clf.predict(x_test)\n",
    "print('預測結果：', list(pre))\n",
    "print('正確結果：', list(y_test))"
   ]
  },
  {
   "cell_type": "markdown",
   "metadata": {},
   "source": [
    "## step4: 驗證模型"
   ]
  },
  {
   "cell_type": "code",
   "execution_count": 13,
   "metadata": {},
   "outputs": [
    {
     "name": "stdout",
     "output_type": "stream",
     "text": [
      "正確率： 0.8\n"
     ]
    }
   ],
   "source": [
    "from sklearn.metrics import accuracy_score\n",
    "score = accuracy_score(pre, y_test)\n",
    "print('正確率：', score)"
   ]
  },
  {
   "cell_type": "code",
   "execution_count": 14,
   "metadata": {},
   "outputs": [
    {
     "name": "stdout",
     "output_type": "stream",
     "text": [
      "分類準確性評估：\n"
     ]
    },
    {
     "data": {
      "text/html": [
       "<div>\n",
       "<style scoped>\n",
       "    .dataframe tbody tr th:only-of-type {\n",
       "        vertical-align: middle;\n",
       "    }\n",
       "\n",
       "    .dataframe tbody tr th {\n",
       "        vertical-align: top;\n",
       "    }\n",
       "\n",
       "    .dataframe thead th {\n",
       "        text-align: right;\n",
       "    }\n",
       "</style>\n",
       "<table border=\"1\" class=\"dataframe\">\n",
       "  <thead>\n",
       "    <tr style=\"text-align: right;\">\n",
       "      <th></th>\n",
       "      <th>李白(預測)</th>\n",
       "      <th>杜甫(預測)</th>\n",
       "      <th>白居易(預測)</th>\n",
       "    </tr>\n",
       "  </thead>\n",
       "  <tbody>\n",
       "    <tr>\n",
       "      <th>李白(目標)</th>\n",
       "      <td>8</td>\n",
       "      <td>1</td>\n",
       "      <td>1</td>\n",
       "    </tr>\n",
       "    <tr>\n",
       "      <th>杜甫(目標)</th>\n",
       "      <td>1</td>\n",
       "      <td>8</td>\n",
       "      <td>1</td>\n",
       "    </tr>\n",
       "    <tr>\n",
       "      <th>白居易(目標)</th>\n",
       "      <td>1</td>\n",
       "      <td>1</td>\n",
       "      <td>8</td>\n",
       "    </tr>\n",
       "  </tbody>\n",
       "</table>\n",
       "</div>"
      ],
      "text/plain": [
       "         李白(預測)  杜甫(預測)  白居易(預測)\n",
       "李白(目標)        8       1        1\n",
       "杜甫(目標)        1       8        1\n",
       "白居易(目標)       1       1        8"
      ]
     },
     "execution_count": 14,
     "metadata": {},
     "output_type": "execute_result"
    }
   ],
   "source": [
    "from sklearn.metrics import confusion_matrix\n",
    "\n",
    "print('分類準確性評估：')\n",
    "mat = confusion_matrix(y_test, pre)\n",
    "\n",
    "ori = [\"李白\",\"杜甫\",\"白居易\"]\n",
    "c = [\"{}(預測)\".format(s) for s in ori]\n",
    "r = [\"{}(目標)\".format(s) for s in ori]\n",
    "\n",
    "pd.DataFrame(mat, columns=c, index=r)"
   ]
  },
  {
   "cell_type": "markdown",
   "metadata": {},
   "source": [
    "## 預測APP：讓使用者輸入詩句做預測"
   ]
  },
  {
   "cell_type": "code",
   "execution_count": 15,
   "metadata": {},
   "outputs": [
    {
     "name": "stdout",
     "output_type": "stream",
     "text": [
      "請輸入一首詩：平林漠漠煙如織，寒山一帶傷心碧。\\r\\n暝色入高樓，有人樓上愁。玉階空佇立，宿鳥歸飛急。\n",
      "作詩人應該是： 李白\n"
     ]
    }
   ],
   "source": [
    "s = input(\"請輸入一首詩：\") \n",
    "s = [poemcut(s)]           # 做文字分詞，並以 list or pd.Series 方式傳入（必須）\n",
    "s = vec.transform(s)       # 將資料轉換成特徵出現次數\n",
    "pre = clf.predict(s)[0]    # 預測結果，是一個 array，故要透過 [0] 取出第一筆預測結果\n",
    "ans = reverse_trans[pre]   # 將預測的結果，由數字轉為文字\n",
    "print(\"作詩人應該是：\", ans)"
   ]
  }
 ],
 "metadata": {
  "kernelspec": {
   "display_name": "Python 3",
   "language": "python",
   "name": "python3"
  },
  "language_info": {
   "codemirror_mode": {
    "name": "ipython",
    "version": 3
   },
   "file_extension": ".py",
   "mimetype": "text/x-python",
   "name": "python",
   "nbconvert_exporter": "python",
   "pygments_lexer": "ipython3",
   "version": "3.8.2"
  }
 },
 "nbformat": 4,
 "nbformat_minor": 4
}