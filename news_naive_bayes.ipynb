{
 "cells": [
  {
   "cell_type": "markdown",
   "metadata": {},
   "source": [
    "# Naive Bayes"
   ]
  },
  {
   "cell_type": "code",
   "execution_count": 1,
   "metadata": {},
   "outputs": [],
   "source": [
    "import os\n",
    "import glob\n",
    "import pandas as pd\n",
    "\n",
    "def get_data(directrory):\n",
    "    data = {\"news\":[], \"ans\":[]}\n",
    "    dirs = glob.glob(os.path.join(directrory, \"*\"))\n",
    "    \n",
    "    for d in dirs:\n",
    "        path_d = os.path.join(d, \"*.txt\")            # windows：副檔名會自動轉換\n",
    "#         path_d = os.path.join(d, \"*.[tT][xX][tT]\") # MacBook：副檔名有大小寫之分\n",
    "\n",
    "        fs = glob.glob(path_d)  # 用 list 把所有檔案路徑列出來\n",
    "\n",
    "        for f in fs:\n",
    "            with open(f, \"r\", encoding=\"utf-8\") as file:\n",
    "                news = file.read()\n",
    "                data[\"news\"].append(news)\n",
    "                \n",
    "                ans = os.path.split(d)[-1]                \n",
    "                data[\"ans\"].append(ans)\n",
    "\n",
    "    df = pd.DataFrame(data, columns=[\"news\", \"ans\"])\n",
    "    return df"
   ]
  },
  {
   "cell_type": "code",
   "execution_count": 2,
   "metadata": {},
   "outputs": [
    {
     "output_type": "execute_result",
     "data": {
      "text/plain": "                                                  news ans\n0    日月光華 -- Traffic_Info精華區文章閱讀\\n-----------------...  交通\n1    日月光華 -- Traffic_Info精華區文章閱讀\\n-----------------...  交通\n2    日月光華 -- Traffic_Info精華區文章閱讀\\n-----------------...  交通\n3    三趟火車停開 乘客可全額退票 \\n瀏覽次數：1180 \\n    昨日，來自鐵路部門的消息說...  交通\n4    日月光華 -- Traffic_Info精華區文章閱讀\\n-----------------...  交通\n..                                                 ...  ..\n96   最優秀選手無緣亞運會健美賽\\n \\n　 \\n    健美在亞洲運動會上是“新生兒”——韓國釜...  體育\n97    \\n各國記者眼中的羽毛球世錦賽\\n \\n\\n-----------------------...  體育\n98   \\n友好運動會第五天 東道主選手大顯神威\\n2001年09月03日02:51:40 新華社 ...  體育\n99   不靠技術比運氣\\n\\n　　第二屆奧運會在巴黎舉行，同時這裡也正在舉行國際博覽會，東道主把一些...  體育\n100  帆 板 運 動 簡 介（二）\\n\\n　　我國在79年由國家體委青島航海運動學校成功試製出第一...  體育\n\n[101 rows x 2 columns]",
      "text/html": "<div>\n<style scoped>\n    .dataframe tbody tr th:only-of-type {\n        vertical-align: middle;\n    }\n\n    .dataframe tbody tr th {\n        vertical-align: top;\n    }\n\n    .dataframe thead th {\n        text-align: right;\n    }\n</style>\n<table border=\"1\" class=\"dataframe\">\n  <thead>\n    <tr style=\"text-align: right;\">\n      <th></th>\n      <th>news</th>\n      <th>ans</th>\n    </tr>\n  </thead>\n  <tbody>\n    <tr>\n      <th>0</th>\n      <td>日月光華 -- Traffic_Info精華區文章閱讀\\n-----------------...</td>\n      <td>交通</td>\n    </tr>\n    <tr>\n      <th>1</th>\n      <td>日月光華 -- Traffic_Info精華區文章閱讀\\n-----------------...</td>\n      <td>交通</td>\n    </tr>\n    <tr>\n      <th>2</th>\n      <td>日月光華 -- Traffic_Info精華區文章閱讀\\n-----------------...</td>\n      <td>交通</td>\n    </tr>\n    <tr>\n      <th>3</th>\n      <td>三趟火車停開 乘客可全額退票 \\n瀏覽次數：1180 \\n    昨日，來自鐵路部門的消息說...</td>\n      <td>交通</td>\n    </tr>\n    <tr>\n      <th>4</th>\n      <td>日月光華 -- Traffic_Info精華區文章閱讀\\n-----------------...</td>\n      <td>交通</td>\n    </tr>\n    <tr>\n      <th>...</th>\n      <td>...</td>\n      <td>...</td>\n    </tr>\n    <tr>\n      <th>96</th>\n      <td>最優秀選手無緣亞運會健美賽\\n \\n　 \\n    健美在亞洲運動會上是“新生兒”——韓國釜...</td>\n      <td>體育</td>\n    </tr>\n    <tr>\n      <th>97</th>\n      <td>\\n各國記者眼中的羽毛球世錦賽\\n \\n\\n-----------------------...</td>\n      <td>體育</td>\n    </tr>\n    <tr>\n      <th>98</th>\n      <td>\\n友好運動會第五天 東道主選手大顯神威\\n2001年09月03日02:51:40 新華社 ...</td>\n      <td>體育</td>\n    </tr>\n    <tr>\n      <th>99</th>\n      <td>不靠技術比運氣\\n\\n　　第二屆奧運會在巴黎舉行，同時這裡也正在舉行國際博覽會，東道主把一些...</td>\n      <td>體育</td>\n    </tr>\n    <tr>\n      <th>100</th>\n      <td>帆 板 運 動 簡 介（二）\\n\\n　　我國在79年由國家體委青島航海運動學校成功試製出第一...</td>\n      <td>體育</td>\n    </tr>\n  </tbody>\n</table>\n<p>101 rows × 2 columns</p>\n</div>"
     },
     "metadata": {},
     "execution_count": 2
    }
   ],
   "source": [
    "# 匯入資料\n",
    "train_df = get_data(\"news/chinese_news_train\")\n",
    "test_df = get_data(\"news/chinese_news_test\")\n",
    "test_df"
   ]
  },
  {
   "cell_type": "code",
   "execution_count": 3,
   "metadata": {},
   "outputs": [
    {
     "output_type": "stream",
     "name": "stdout",
     "text": "{'交通': 0, '政治': 1, '教育': 2, '環境': 3, '經濟': 4, '藝術': 5, '計算機': 6, '軍事': 7, '醫藥': 8, '體育': 9}\n"
    }
   ],
   "source": [
    "# 計算值數量：value_counts\n",
    "# 取不重複值；unique\n",
    "\n",
    "# 製作目標/答案轉為數字的字典\n",
    "news_kind = train_df[\"ans\"].unique()\n",
    "trans = {k:i for i,k in enumerate(news_kind)}\n",
    "print(trans)\n",
    "\n",
    "# 反轉目標/答案字典，之後解讀資料用\n",
    "reverse_trans = {i:k for k,i in trans.items()}"
   ]
  },
  {
   "cell_type": "code",
   "execution_count": 4,
   "metadata": {},
   "outputs": [],
   "source": [
    "# 將目標/答案轉為數字\n",
    "y_train = train_df[\"ans\"].replace(trans)\n",
    "y_test  = test_df[\"ans\"].replace(trans)"
   ]
  },
  {
   "cell_type": "code",
   "execution_count": 5,
   "metadata": {},
   "outputs": [],
   "source": [
    "# 下載 jieba大辭典\n",
    "import os\n",
    "from urllib.request import urlretrieve\n",
    "\n",
    "DICT_PATH = \"dict.txt.big\"\n",
    "if not os.path.exists(DICT_PATH):\n",
    "    print(\"字典不存在，下載中\")\n",
    "    url = \"https://github.com/fxsjy/jieba/raw/master/extra_dict/dict.txt.big\"\n",
    "    urlretrieve(url, DICT_PATH)"
   ]
  },
  {
   "cell_type": "code",
   "execution_count": 6,
   "metadata": {},
   "outputs": [
    {
     "output_type": "stream",
     "name": "stderr",
     "text": "Building prefix dict from d:\\Python\\GitHube\\Machine_Learning\\dict.txt.big ...\nLoading model from cache C:\\Users\\yalon\\AppData\\Local\\Temp\\jieba.u97a541a3dec7202620b0e6479afd340f.cache\nLoading model cost 1.186 seconds.\nPrefix dict has been built successfully.\n"
    }
   ],
   "source": [
    "# 對資料做文字分詞\n",
    "import jieba\n",
    "\n",
    "jieba.set_dictionary(DICT_PATH)\n",
    "\n",
    "def newscut(s):\n",
    "    s = \" \".join(jieba.cut(s))\n",
    "    s = s.replace(\"\\r\",\"\").replace(\"\\n\",\"\")\n",
    "    return s\n",
    "\n",
    "x_train_raw = train_df[\"news\"].apply(newscut)\n",
    "x_test_raw  = test_df[\"news\"].apply(newscut)"
   ]
  },
  {
   "cell_type": "code",
   "execution_count": 7,
   "metadata": {},
   "outputs": [],
   "source": [
    "# 轉換成計算資料出現次數：CountVectorizer\n",
    "from sklearn.feature_extraction.text import CountVectorizer\n",
    "\n",
    "vec = CountVectorizer()\n",
    "x_train = vec.fit_transform(x_train_raw)\n",
    "x_test  = vec.transform(x_test_raw)"
   ]
  },
  {
   "cell_type": "code",
   "execution_count": 8,
   "metadata": {},
   "outputs": [],
   "source": [
    "# 反轉特徵欄位字典，之後解讀資料用\n",
    "reverse_voca = { v:k for k, v in vec.vocabulary_.items()}"
   ]
  },
  {
   "cell_type": "code",
   "execution_count": 9,
   "metadata": {},
   "outputs": [
    {
     "output_type": "execute_result",
     "data": {
      "text/plain": "MultinomialNB(alpha=1.0, class_prior=None, fit_prior=True)"
     },
     "metadata": {},
     "execution_count": 9
    }
   ],
   "source": [
    "# 訓練模型（做公式）：MultinomialNB\n",
    "from sklearn.naive_bayes import MultinomialNB\n",
    "\n",
    "clf = MultinomialNB() \n",
    "clf.fit(x_train, y_train)"
   ]
  },
  {
   "cell_type": "code",
   "execution_count": 10,
   "metadata": {},
   "outputs": [],
   "source": [
    "# 預測結果：predict\n",
    "pre = clf.predict(x_test)"
   ]
  },
  {
   "cell_type": "code",
   "execution_count": 11,
   "metadata": {},
   "outputs": [
    {
     "output_type": "execute_result",
     "data": {
      "text/plain": "1.0"
     },
     "metadata": {},
     "execution_count": 11
    }
   ],
   "source": [
    "# 驗證模型：計算正確率\n",
    "from sklearn.metrics import accuracy_score\n",
    "\n",
    "accuracy_score(pre, y_test)"
   ]
  },
  {
   "cell_type": "code",
   "execution_count": 12,
   "metadata": {},
   "outputs": [
    {
     "output_type": "execute_result",
     "data": {
      "text/plain": "         交通(預測)  政治(預測)  教育(預測)  環境(預測)  經濟(預測)  藝術(預測)  計算機(預測)  軍事(預測)  \\\n交通(目標)       10       0       0       0       0       0        0       0   \n政治(目標)        0      11       0       0       0       0        0       0   \n教育(目標)        0       0      10       0       0       0        0       0   \n環境(目標)        0       0       0      10       0       0        0       0   \n經濟(目標)        0       0       0       0      10       0        0       0   \n藝術(目標)        0       0       0       0       0      10        0       0   \n計算機(目標)       0       0       0       0       0       0       10       0   \n軍事(目標)        0       0       0       0       0       0        0      10   \n醫藥(目標)        0       0       0       0       0       0        0       0   \n體育(目標)        0       0       0       0       0       0        0       0   \n\n         醫藥(預測)  體育(預測)  \n交通(目標)        0       0  \n政治(目標)        0       0  \n教育(目標)        0       0  \n環境(目標)        0       0  \n經濟(目標)        0       0  \n藝術(目標)        0       0  \n計算機(目標)       0       0  \n軍事(目標)        0       0  \n醫藥(目標)       10       0  \n體育(目標)        0      10  ",
      "text/html": "<div>\n<style scoped>\n    .dataframe tbody tr th:only-of-type {\n        vertical-align: middle;\n    }\n\n    .dataframe tbody tr th {\n        vertical-align: top;\n    }\n\n    .dataframe thead th {\n        text-align: right;\n    }\n</style>\n<table border=\"1\" class=\"dataframe\">\n  <thead>\n    <tr style=\"text-align: right;\">\n      <th></th>\n      <th>交通(預測)</th>\n      <th>政治(預測)</th>\n      <th>教育(預測)</th>\n      <th>環境(預測)</th>\n      <th>經濟(預測)</th>\n      <th>藝術(預測)</th>\n      <th>計算機(預測)</th>\n      <th>軍事(預測)</th>\n      <th>醫藥(預測)</th>\n      <th>體育(預測)</th>\n    </tr>\n  </thead>\n  <tbody>\n    <tr>\n      <th>交通(目標)</th>\n      <td>10</td>\n      <td>0</td>\n      <td>0</td>\n      <td>0</td>\n      <td>0</td>\n      <td>0</td>\n      <td>0</td>\n      <td>0</td>\n      <td>0</td>\n      <td>0</td>\n    </tr>\n    <tr>\n      <th>政治(目標)</th>\n      <td>0</td>\n      <td>11</td>\n      <td>0</td>\n      <td>0</td>\n      <td>0</td>\n      <td>0</td>\n      <td>0</td>\n      <td>0</td>\n      <td>0</td>\n      <td>0</td>\n    </tr>\n    <tr>\n      <th>教育(目標)</th>\n      <td>0</td>\n      <td>0</td>\n      <td>10</td>\n      <td>0</td>\n      <td>0</td>\n      <td>0</td>\n      <td>0</td>\n      <td>0</td>\n      <td>0</td>\n      <td>0</td>\n    </tr>\n    <tr>\n      <th>環境(目標)</th>\n      <td>0</td>\n      <td>0</td>\n      <td>0</td>\n      <td>10</td>\n      <td>0</td>\n      <td>0</td>\n      <td>0</td>\n      <td>0</td>\n      <td>0</td>\n      <td>0</td>\n    </tr>\n    <tr>\n      <th>經濟(目標)</th>\n      <td>0</td>\n      <td>0</td>\n      <td>0</td>\n      <td>0</td>\n      <td>10</td>\n      <td>0</td>\n      <td>0</td>\n      <td>0</td>\n      <td>0</td>\n      <td>0</td>\n    </tr>\n    <tr>\n      <th>藝術(目標)</th>\n      <td>0</td>\n      <td>0</td>\n      <td>0</td>\n      <td>0</td>\n      <td>0</td>\n      <td>10</td>\n      <td>0</td>\n      <td>0</td>\n      <td>0</td>\n      <td>0</td>\n    </tr>\n    <tr>\n      <th>計算機(目標)</th>\n      <td>0</td>\n      <td>0</td>\n      <td>0</td>\n      <td>0</td>\n      <td>0</td>\n      <td>0</td>\n      <td>10</td>\n      <td>0</td>\n      <td>0</td>\n      <td>0</td>\n    </tr>\n    <tr>\n      <th>軍事(目標)</th>\n      <td>0</td>\n      <td>0</td>\n      <td>0</td>\n      <td>0</td>\n      <td>0</td>\n      <td>0</td>\n      <td>0</td>\n      <td>10</td>\n      <td>0</td>\n      <td>0</td>\n    </tr>\n    <tr>\n      <th>醫藥(目標)</th>\n      <td>0</td>\n      <td>0</td>\n      <td>0</td>\n      <td>0</td>\n      <td>0</td>\n      <td>0</td>\n      <td>0</td>\n      <td>0</td>\n      <td>10</td>\n      <td>0</td>\n    </tr>\n    <tr>\n      <th>體育(目標)</th>\n      <td>0</td>\n      <td>0</td>\n      <td>0</td>\n      <td>0</td>\n      <td>0</td>\n      <td>0</td>\n      <td>0</td>\n      <td>0</td>\n      <td>0</td>\n      <td>10</td>\n    </tr>\n  </tbody>\n</table>\n</div>"
     },
     "metadata": {},
     "execution_count": 12
    }
   ],
   "source": [
    "# 驗證模型：評估分類準確性\n",
    "from sklearn.metrics import confusion_matrix\n",
    "\n",
    "mat = confusion_matrix(y_test, pre)\n",
    "c = [f\"{s}(預測)\" for s in news_kind]\n",
    "r = [f\"{s}(目標)\" for s in news_kind]\n",
    "pd.DataFrame(mat, columns=c, index=r)"
   ]
  },
  {
   "cell_type": "markdown",
   "metadata": {},
   "source": [
    "## 讓使用者輸入新聞做預測"
   ]
  },
  {
   "cell_type": "code",
   "execution_count": 14,
   "metadata": {},
   "outputs": [
    {
     "output_type": "stream",
     "name": "stdout",
     "text": "\n新聞分類應該是： 經濟\n新聞各分類百分比：\n經濟 : 100.0 %\n政治 : 0.0 %\n軍事 : 0.0 %\n計算機 : 0.0 %\n教育 : 0.0 %\n環境 : 0.0 %\n藝術 : 0.0 %\n交通 : 0.0 %\n體育 : 0.0 %\n醫藥 : 0.0 %\n"
    }
   ],
   "source": [
    "s = input(\"請輸入新聞：\\n\") \n",
    "s = vec.transform([newscut(s)])\n",
    "\n",
    "pre = clf.predict(s)[0]\n",
    "ans = reverse_trans[pre]\n",
    "print(\"\\n新聞分類應該是：\", ans)\n",
    "\n",
    "print(\"新聞各分類百分比：\")\n",
    "pre_proba = clf.predict_proba(s)[0]\n",
    "pre_proba = zip(news_kind, pre_proba)\n",
    "for kind, proba in sorted(pre_proba, key=lambda x:x[1], reverse=True):\n",
    "    print(kind, \":\", round(proba*100, 2), \"%\")"
   ]
  }
 ],
 "metadata": {
  "kernelspec": {
   "display_name": "Python 3",
   "language": "python",
   "name": "python3"
  },
  "language_info": {
   "codemirror_mode": {
    "name": "ipython",
    "version": 3
   },
   "file_extension": ".py",
   "mimetype": "text/x-python",
   "name": "python",
   "nbconvert_exporter": "python",
   "pygments_lexer": "ipython3",
   "version": "3.8.2-final"
  }
 },
 "nbformat": 4,
 "nbformat_minor": 4
}