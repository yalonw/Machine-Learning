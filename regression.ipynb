{
 "cells": [
  {
   "cell_type": "markdown",
   "metadata": {},
   "source": [
    "# Regression Tree 回歸 (計算題)\n",
    "\n",
    "[Google: sklearn datasets](https://scikit-learn.org/stable/datasets/index.html#toy-datasets)"
   ]
  },
  {
   "cell_type": "markdown",
   "metadata": {},
   "source": [
    "CRIM：人均犯罪率  \n",
    "ZN：25,000平方英尺以上民用土地的比例  \n",
    "INDUS：城镇非零售业商用土地比例  \n",
    "CHAS：是否邻近查尔斯河，1是邻近，0是不邻近  \n",
    "NOX：一氧化氮浓度（千万分之一）  \n",
    "RM：住宅的平均房间数  \n",
    "AGE：自住且建于1940年前的房屋比例  \n",
    "DIS：到5个波士顿就业中心的加权距离  \n",
    "RAD：到高速公路的便捷度指数  \n",
    "TAX：每万元的房产税率  \n",
    "PTRATIO：城镇学生教师比例  \n",
    "B： 1000(Bk − 0.63)2 其中Bk是城镇中黑人比例  \n",
    "LSTAT：低收入人群比例  \n",
    "MEDV：自住房中位数价格，单位是千元  "
   ]
  },
  {
   "cell_type": "code",
   "execution_count": 1,
   "metadata": {},
   "outputs": [
    {
     "output_type": "execute_result",
     "data": {
      "text/plain": "        CRIM    ZN  INDUS  CHAS    NOX     RM   AGE     DIS  RAD    TAX  \\\n0    0.00632  18.0   2.31   0.0  0.538  6.575  65.2  4.0900  1.0  296.0   \n1    0.02731   0.0   7.07   0.0  0.469  6.421  78.9  4.9671  2.0  242.0   \n2    0.02729   0.0   7.07   0.0  0.469  7.185  61.1  4.9671  2.0  242.0   \n3    0.03237   0.0   2.18   0.0  0.458  6.998  45.8  6.0622  3.0  222.0   \n4    0.06905   0.0   2.18   0.0  0.458  7.147  54.2  6.0622  3.0  222.0   \n..       ...   ...    ...   ...    ...    ...   ...     ...  ...    ...   \n501  0.06263   0.0  11.93   0.0  0.573  6.593  69.1  2.4786  1.0  273.0   \n502  0.04527   0.0  11.93   0.0  0.573  6.120  76.7  2.2875  1.0  273.0   \n503  0.06076   0.0  11.93   0.0  0.573  6.976  91.0  2.1675  1.0  273.0   \n504  0.10959   0.0  11.93   0.0  0.573  6.794  89.3  2.3889  1.0  273.0   \n505  0.04741   0.0  11.93   0.0  0.573  6.030  80.8  2.5050  1.0  273.0   \n\n     PTRATIO       B  LSTAT  target  \n0       15.3  396.90   4.98    24.0  \n1       17.8  396.90   9.14    21.6  \n2       17.8  392.83   4.03    34.7  \n3       18.7  394.63   2.94    33.4  \n4       18.7  396.90   5.33    36.2  \n..       ...     ...    ...     ...  \n501     21.0  391.99   9.67    22.4  \n502     21.0  396.90   9.08    20.6  \n503     21.0  396.90   5.64    23.9  \n504     21.0  393.45   6.48    22.0  \n505     21.0  396.90   7.88    11.9  \n\n[506 rows x 14 columns]",
      "text/html": "<div>\n<style scoped>\n    .dataframe tbody tr th:only-of-type {\n        vertical-align: middle;\n    }\n\n    .dataframe tbody tr th {\n        vertical-align: top;\n    }\n\n    .dataframe thead th {\n        text-align: right;\n    }\n</style>\n<table border=\"1\" class=\"dataframe\">\n  <thead>\n    <tr style=\"text-align: right;\">\n      <th></th>\n      <th>CRIM</th>\n      <th>ZN</th>\n      <th>INDUS</th>\n      <th>CHAS</th>\n      <th>NOX</th>\n      <th>RM</th>\n      <th>AGE</th>\n      <th>DIS</th>\n      <th>RAD</th>\n      <th>TAX</th>\n      <th>PTRATIO</th>\n      <th>B</th>\n      <th>LSTAT</th>\n      <th>target</th>\n    </tr>\n  </thead>\n  <tbody>\n    <tr>\n      <th>0</th>\n      <td>0.00632</td>\n      <td>18.0</td>\n      <td>2.31</td>\n      <td>0.0</td>\n      <td>0.538</td>\n      <td>6.575</td>\n      <td>65.2</td>\n      <td>4.0900</td>\n      <td>1.0</td>\n      <td>296.0</td>\n      <td>15.3</td>\n      <td>396.90</td>\n      <td>4.98</td>\n      <td>24.0</td>\n    </tr>\n    <tr>\n      <th>1</th>\n      <td>0.02731</td>\n      <td>0.0</td>\n      <td>7.07</td>\n      <td>0.0</td>\n      <td>0.469</td>\n      <td>6.421</td>\n      <td>78.9</td>\n      <td>4.9671</td>\n      <td>2.0</td>\n      <td>242.0</td>\n      <td>17.8</td>\n      <td>396.90</td>\n      <td>9.14</td>\n      <td>21.6</td>\n    </tr>\n    <tr>\n      <th>2</th>\n      <td>0.02729</td>\n      <td>0.0</td>\n      <td>7.07</td>\n      <td>0.0</td>\n      <td>0.469</td>\n      <td>7.185</td>\n      <td>61.1</td>\n      <td>4.9671</td>\n      <td>2.0</td>\n      <td>242.0</td>\n      <td>17.8</td>\n      <td>392.83</td>\n      <td>4.03</td>\n      <td>34.7</td>\n    </tr>\n    <tr>\n      <th>3</th>\n      <td>0.03237</td>\n      <td>0.0</td>\n      <td>2.18</td>\n      <td>0.0</td>\n      <td>0.458</td>\n      <td>6.998</td>\n      <td>45.8</td>\n      <td>6.0622</td>\n      <td>3.0</td>\n      <td>222.0</td>\n      <td>18.7</td>\n      <td>394.63</td>\n      <td>2.94</td>\n      <td>33.4</td>\n    </tr>\n    <tr>\n      <th>4</th>\n      <td>0.06905</td>\n      <td>0.0</td>\n      <td>2.18</td>\n      <td>0.0</td>\n      <td>0.458</td>\n      <td>7.147</td>\n      <td>54.2</td>\n      <td>6.0622</td>\n      <td>3.0</td>\n      <td>222.0</td>\n      <td>18.7</td>\n      <td>396.90</td>\n      <td>5.33</td>\n      <td>36.2</td>\n    </tr>\n    <tr>\n      <th>...</th>\n      <td>...</td>\n      <td>...</td>\n      <td>...</td>\n      <td>...</td>\n      <td>...</td>\n      <td>...</td>\n      <td>...</td>\n      <td>...</td>\n      <td>...</td>\n      <td>...</td>\n      <td>...</td>\n      <td>...</td>\n      <td>...</td>\n      <td>...</td>\n    </tr>\n    <tr>\n      <th>501</th>\n      <td>0.06263</td>\n      <td>0.0</td>\n      <td>11.93</td>\n      <td>0.0</td>\n      <td>0.573</td>\n      <td>6.593</td>\n      <td>69.1</td>\n      <td>2.4786</td>\n      <td>1.0</td>\n      <td>273.0</td>\n      <td>21.0</td>\n      <td>391.99</td>\n      <td>9.67</td>\n      <td>22.4</td>\n    </tr>\n    <tr>\n      <th>502</th>\n      <td>0.04527</td>\n      <td>0.0</td>\n      <td>11.93</td>\n      <td>0.0</td>\n      <td>0.573</td>\n      <td>6.120</td>\n      <td>76.7</td>\n      <td>2.2875</td>\n      <td>1.0</td>\n      <td>273.0</td>\n      <td>21.0</td>\n      <td>396.90</td>\n      <td>9.08</td>\n      <td>20.6</td>\n    </tr>\n    <tr>\n      <th>503</th>\n      <td>0.06076</td>\n      <td>0.0</td>\n      <td>11.93</td>\n      <td>0.0</td>\n      <td>0.573</td>\n      <td>6.976</td>\n      <td>91.0</td>\n      <td>2.1675</td>\n      <td>1.0</td>\n      <td>273.0</td>\n      <td>21.0</td>\n      <td>396.90</td>\n      <td>5.64</td>\n      <td>23.9</td>\n    </tr>\n    <tr>\n      <th>504</th>\n      <td>0.10959</td>\n      <td>0.0</td>\n      <td>11.93</td>\n      <td>0.0</td>\n      <td>0.573</td>\n      <td>6.794</td>\n      <td>89.3</td>\n      <td>2.3889</td>\n      <td>1.0</td>\n      <td>273.0</td>\n      <td>21.0</td>\n      <td>393.45</td>\n      <td>6.48</td>\n      <td>22.0</td>\n    </tr>\n    <tr>\n      <th>505</th>\n      <td>0.04741</td>\n      <td>0.0</td>\n      <td>11.93</td>\n      <td>0.0</td>\n      <td>0.573</td>\n      <td>6.030</td>\n      <td>80.8</td>\n      <td>2.5050</td>\n      <td>1.0</td>\n      <td>273.0</td>\n      <td>21.0</td>\n      <td>396.90</td>\n      <td>7.88</td>\n      <td>11.9</td>\n    </tr>\n  </tbody>\n</table>\n<p>506 rows × 14 columns</p>\n</div>"
     },
     "metadata": {},
     "execution_count": 1
    }
   ],
   "source": [
    "from sklearn.datasets import load_boston\n",
    "import pandas as pd\n",
    "\n",
    "boston = load_boston()\n",
    "df = pd.DataFrame(boston[\"data\"], columns=boston[\"feature_names\"])\n",
    "df[\"target\"] = boston[\"target\"]\n",
    "df"
   ]
  },
  {
   "cell_type": "markdown",
   "metadata": {},
   "source": [
    "## STEP\n",
    "1. **處理資料**：  \n",
    "   將資料 `train_test_split(特徵, 目標, test_size=0.1)` 切成二份，  \n",
    "   90% 資料做為訓練模型（train）、10% 資料做為驗證結果（test）； x 表示特徵/題目， y 表示目標/答案 \n",
    "   \n",
    "2. **訓練模型**：  \n",
    "   決策樹（[`DecisionTreeRegressor`](https://scikit-learn.org/stable/modules/generated/sklearn.tree.DecisionTreeRegressor.html?highlight=decisiontreeregressor#sklearn-tree-decisiontreeregressor)）  \n",
    "   用 90% 題目和 90% 答案 訓練模型 `reg.fit(x_train, y_train)` \n",
    "\n",
    "3. **預測結果**：  \n",
    "   用訓練好的模型 預測結果 `reg.predict(x_test)`\n",
    "\n",
    "4. **驗證模型**：  \n",
    "   用 `r2_score(y_test, pre)` 衡量預測正確率  \n",
    "\n",
    "5. **畫圖**：  \n",
    "   利用 [graphviz](https://scikit-learn.org/stable/modules/generated/sklearn.tree.export_graphviz.html) 畫出決策樹   \n",
    "\n",
    "   \n",
    "   \n",
    "## NOTE  \n",
    "1. $ gini = \\sum p \\times(1-p) $，平均猜錯機率，越小越好   \n",
    "   $ mse= \\frac{1}{n} \\sum (x-mean)^2 $，集中程度（跟平均的平均距離、誤差範圍），越小越好\n",
    "   \n",
    "2. $ MSE = \\frac{1}{n} \\sum (predict_i-true_i)^2 $  \n",
    "   $ RMSE = \\sqrt{MSE} $  \n",
    "   $ MAE = \\frac{1}{n} \\sum | predict_i-true_i | $  \n",
    "   \n",
    "3. RMSE 基數不一樣時，無法對比/比較，故要經過標準化（standardization）  \n",
    "       \n",
    "   $ standardization = \\Large \\frac{\\sum (predict_i-true_i)^2}{\\sum (mean-true)^2} $  \n",
    "   -> $ standardization = 0 $ ，表示分子=0 　，表示 $ predict = true $ ，表示完美猜準；  \n",
    "   -> $ standardization = 1 $ ，表示分子=分母，表示 $ predict = mean $，表示完全瞎猜；\n",
    "       \n",
    "   $ r2_score = 1-standardization $   \n",
    "   -> $ r2_score = 0 $ 　，表示完全瞎猜  \n",
    "   -> $ r2_score = 0.5 $ ，表示預測不錯  \n",
    "   -> $ r2_score = 1 $ 　，表示完美猜準  \n",
    "   \n",
    "4. r2_score 看**預測準不準**，RMSE 看**預測差多少**\n"
   ]
  },
  {
   "cell_type": "code",
   "execution_count": 2,
   "metadata": {},
   "outputs": [],
   "source": [
    "from sklearn.model_selection import train_test_split\n",
    "\n",
    "# train_test_split -> (90%特徵, 10%特徵, 90%目標, 10%目標)\n",
    "x_train, x_test, y_train, y_test = train_test_split(boston[\"data\"], boston[\"target\"], test_size=0.1)"
   ]
  },
  {
   "cell_type": "code",
   "execution_count": 3,
   "metadata": {},
   "outputs": [
    {
     "output_type": "execute_result",
     "data": {
      "text/plain": "DecisionTreeRegressor(ccp_alpha=0.0, criterion='mse', max_depth=5,\n                      max_features=None, max_leaf_nodes=None,\n                      min_impurity_decrease=0.0, min_impurity_split=None,\n                      min_samples_leaf=1, min_samples_split=2,\n                      min_weight_fraction_leaf=0.0, presort='deprecated',\n                      random_state=None, splitter='best')"
     },
     "metadata": {},
     "execution_count": 3
    }
   ],
   "source": [
    "from sklearn.tree import DecisionTreeRegressor\n",
    "\n",
    "# 防止過擬合，故做前剪枝：max_depth=5 \n",
    "reg = DecisionTreeRegressor(max_depth=5)\n",
    "reg.fit(x_train, y_train)"
   ]
  },
  {
   "cell_type": "code",
   "execution_count": 4,
   "metadata": {},
   "outputs": [
    {
     "output_type": "execute_result",
     "data": {
      "text/plain": "<graphviz.files.Source at 0x5587268>",
      "image/svg+xml": "<?xml version=\"1.0\" encoding=\"UTF-8\" standalone=\"no\"?>\r\n<!DOCTYPE svg PUBLIC \"-//W3C//DTD SVG 1.1//EN\"\r\n \"http://www.w3.org/Graphics/SVG/1.1/DTD/svg11.dtd\">\r\n<!-- Generated by graphviz version 2.38.0 (20140413.2041)\r\n -->\r\n<!-- Title: Tree Pages: 1 -->\r\n<svg width=\"992pt\" height=\"460pt\"\r\n viewBox=\"0.00 0.00 991.50 460.00\" xmlns=\"http://www.w3.org/2000/svg\" xmlns:xlink=\"http://www.w3.org/1999/xlink\">\r\n<g id=\"graph0\" class=\"graph\" transform=\"scale(1 1) rotate(0) translate(4 456)\">\r\n<title>Tree</title>\r\n<polygon fill=\"white\" stroke=\"none\" points=\"-4,4 -4,-456 987.5,-456 987.5,4 -4,4\"/>\r\n<!-- 0 -->\r\n<g id=\"node1\" class=\"node\"><title>0</title>\r\n<polygon fill=\"#f6d5be\" stroke=\"black\" points=\"517.5,-452 401.5,-452 401.5,-384 517.5,-384 517.5,-452\"/>\r\n<text text-anchor=\"middle\" x=\"459.5\" y=\"-436.8\" font-family=\"Times New Roman,serif\" font-size=\"14.00\">LSTAT &lt;= 7.685</text>\r\n<text text-anchor=\"middle\" x=\"459.5\" y=\"-421.8\" font-family=\"Times New Roman,serif\" font-size=\"14.00\">mse = 82.877</text>\r\n<text text-anchor=\"middle\" x=\"459.5\" y=\"-406.8\" font-family=\"Times New Roman,serif\" font-size=\"14.00\">samples = 455</text>\r\n<text text-anchor=\"middle\" x=\"459.5\" y=\"-391.8\" font-family=\"Times New Roman,serif\" font-size=\"14.00\">value = 22.578</text>\r\n</g>\r\n<!-- 1 -->\r\n<g id=\"node2\" class=\"node\"><title>1</title>\r\n<polygon fill=\"#f1b991\" stroke=\"black\" points=\"418.5,-348 320.5,-348 320.5,-280 418.5,-280 418.5,-348\"/>\r\n<text text-anchor=\"middle\" x=\"369.5\" y=\"-332.8\" font-family=\"Times New Roman,serif\" font-size=\"14.00\">RM &lt;= 7.437</text>\r\n<text text-anchor=\"middle\" x=\"369.5\" y=\"-317.8\" font-family=\"Times New Roman,serif\" font-size=\"14.00\">mse = 75.752</text>\r\n<text text-anchor=\"middle\" x=\"369.5\" y=\"-302.8\" font-family=\"Times New Roman,serif\" font-size=\"14.00\">samples = 138</text>\r\n<text text-anchor=\"middle\" x=\"369.5\" y=\"-287.8\" font-family=\"Times New Roman,serif\" font-size=\"14.00\">value = 31.804</text>\r\n</g>\r\n<!-- 0&#45;&gt;1 -->\r\n<g id=\"edge1\" class=\"edge\"><title>0&#45;&gt;1</title>\r\n<path fill=\"none\" stroke=\"black\" d=\"M430.28,-383.884C422.42,-374.976 413.825,-365.235 405.638,-355.957\"/>\r\n<polygon fill=\"black\" stroke=\"black\" points=\"408.122,-353.482 398.882,-348.299 402.874,-358.113 408.122,-353.482\"/>\r\n<text text-anchor=\"middle\" x=\"397.322\" y=\"-369.551\" font-family=\"Times New Roman,serif\" font-size=\"14.00\">True</text>\r\n</g>\r\n<!-- 20 -->\r\n<g id=\"node13\" class=\"node\"><title>20</title>\r\n<polygon fill=\"#f9e2d1\" stroke=\"black\" points=\"605,-348 496,-348 496,-280 605,-280 605,-348\"/>\r\n<text text-anchor=\"middle\" x=\"550.5\" y=\"-332.8\" font-family=\"Times New Roman,serif\" font-size=\"14.00\">LSTAT &lt;= 15.0</text>\r\n<text text-anchor=\"middle\" x=\"550.5\" y=\"-317.8\" font-family=\"Times New Roman,serif\" font-size=\"14.00\">mse = 32.794</text>\r\n<text text-anchor=\"middle\" x=\"550.5\" y=\"-302.8\" font-family=\"Times New Roman,serif\" font-size=\"14.00\">samples = 317</text>\r\n<text text-anchor=\"middle\" x=\"550.5\" y=\"-287.8\" font-family=\"Times New Roman,serif\" font-size=\"14.00\">value = 18.562</text>\r\n</g>\r\n<!-- 0&#45;&gt;20 -->\r\n<g id=\"edge12\" class=\"edge\"><title>0&#45;&gt;20</title>\r\n<path fill=\"none\" stroke=\"black\" d=\"M489.045,-383.884C496.992,-374.976 505.682,-365.235 513.96,-355.957\"/>\r\n<polygon fill=\"black\" stroke=\"black\" points=\"516.746,-358.091 520.792,-348.299 511.523,-353.431 516.746,-358.091\"/>\r\n<text text-anchor=\"middle\" x=\"522.214\" y=\"-369.559\" font-family=\"Times New Roman,serif\" font-size=\"14.00\">False</text>\r\n</g>\r\n<!-- 2 -->\r\n<g id=\"node3\" class=\"node\"><title>2</title>\r\n<polygon fill=\"#f2c2a0\" stroke=\"black\" points=\"201.5,-244 103.5,-244 103.5,-176 201.5,-176 201.5,-244\"/>\r\n<text text-anchor=\"middle\" x=\"152.5\" y=\"-228.8\" font-family=\"Times New Roman,serif\" font-size=\"14.00\">DIS &lt;= 1.485</text>\r\n<text text-anchor=\"middle\" x=\"152.5\" y=\"-213.8\" font-family=\"Times New Roman,serif\" font-size=\"14.00\">mse = 34.821</text>\r\n<text text-anchor=\"middle\" x=\"152.5\" y=\"-198.8\" font-family=\"Times New Roman,serif\" font-size=\"14.00\">samples = 112</text>\r\n<text text-anchor=\"middle\" x=\"152.5\" y=\"-183.8\" font-family=\"Times New Roman,serif\" font-size=\"14.00\">value = 28.763</text>\r\n</g>\r\n<!-- 1&#45;&gt;2 -->\r\n<g id=\"edge2\" class=\"edge\"><title>1&#45;&gt;2</title>\r\n<path fill=\"none\" stroke=\"black\" d=\"M320.259,-289.855C287.798,-274.596 245.128,-254.539 210.946,-238.472\"/>\r\n<polygon fill=\"black\" stroke=\"black\" points=\"212.085,-235.14 201.546,-234.054 209.107,-241.475 212.085,-235.14\"/>\r\n</g>\r\n<!-- 11 -->\r\n<g id=\"node8\" class=\"node\"><title>11</title>\r\n<polygon fill=\"#e89152\" stroke=\"black\" points=\"435.5,-244 303.5,-244 303.5,-176 435.5,-176 435.5,-244\"/>\r\n<text text-anchor=\"middle\" x=\"369.5\" y=\"-228.8\" font-family=\"Times New Roman,serif\" font-size=\"14.00\">PTRATIO &lt;= 19.65</text>\r\n<text text-anchor=\"middle\" x=\"369.5\" y=\"-213.8\" font-family=\"Times New Roman,serif\" font-size=\"14.00\">mse = 40.638</text>\r\n<text text-anchor=\"middle\" x=\"369.5\" y=\"-198.8\" font-family=\"Times New Roman,serif\" font-size=\"14.00\">samples = 26</text>\r\n<text text-anchor=\"middle\" x=\"369.5\" y=\"-183.8\" font-family=\"Times New Roman,serif\" font-size=\"14.00\">value = 44.904</text>\r\n</g>\r\n<!-- 1&#45;&gt;11 -->\r\n<g id=\"edge7\" class=\"edge\"><title>1&#45;&gt;11</title>\r\n<path fill=\"none\" stroke=\"black\" d=\"M369.5,-279.884C369.5,-271.778 369.5,-262.982 369.5,-254.472\"/>\r\n<polygon fill=\"black\" stroke=\"black\" points=\"373,-254.299 369.5,-244.299 366,-254.299 373,-254.299\"/>\r\n</g>\r\n<!-- 3 -->\r\n<g id=\"node4\" class=\"node\"><title>3</title>\r\n<polygon fill=\"#e58139\" stroke=\"black\" points=\"85,-132.5 0,-132.5 0,-79.5 85,-79.5 85,-132.5\"/>\r\n<text text-anchor=\"middle\" x=\"42.5\" y=\"-117.3\" font-family=\"Times New Roman,serif\" font-size=\"14.00\">mse = 0.0</text>\r\n<text text-anchor=\"middle\" x=\"42.5\" y=\"-102.3\" font-family=\"Times New Roman,serif\" font-size=\"14.00\">samples = 3</text>\r\n<text text-anchor=\"middle\" x=\"42.5\" y=\"-87.3\" font-family=\"Times New Roman,serif\" font-size=\"14.00\">value = 50.0</text>\r\n</g>\r\n<!-- 2&#45;&gt;3 -->\r\n<g id=\"edge3\" class=\"edge\"><title>2&#45;&gt;3</title>\r\n<path fill=\"none\" stroke=\"black\" d=\"M116.786,-175.884C104.214,-164.226 90.1026,-151.141 77.583,-139.532\"/>\r\n<polygon fill=\"black\" stroke=\"black\" points=\"79.734,-136.753 70.0215,-132.52 74.9744,-141.886 79.734,-136.753\"/>\r\n</g>\r\n<!-- 4 -->\r\n<g id=\"node5\" class=\"node\"><title>4</title>\r\n<polygon fill=\"#f3c4a3\" stroke=\"black\" points=\"201.5,-140 103.5,-140 103.5,-72 201.5,-72 201.5,-140\"/>\r\n<text text-anchor=\"middle\" x=\"152.5\" y=\"-124.8\" font-family=\"Times New Roman,serif\" font-size=\"14.00\">RM &lt;= 6.797</text>\r\n<text text-anchor=\"middle\" x=\"152.5\" y=\"-109.8\" font-family=\"Times New Roman,serif\" font-size=\"14.00\">mse = 23.025</text>\r\n<text text-anchor=\"middle\" x=\"152.5\" y=\"-94.8\" font-family=\"Times New Roman,serif\" font-size=\"14.00\">samples = 109</text>\r\n<text text-anchor=\"middle\" x=\"152.5\" y=\"-79.8\" font-family=\"Times New Roman,serif\" font-size=\"14.00\">value = 28.179</text>\r\n</g>\r\n<!-- 2&#45;&gt;4 -->\r\n<g id=\"edge4\" class=\"edge\"><title>2&#45;&gt;4</title>\r\n<path fill=\"none\" stroke=\"black\" d=\"M152.5,-175.884C152.5,-167.778 152.5,-158.982 152.5,-150.472\"/>\r\n<polygon fill=\"black\" stroke=\"black\" points=\"156,-150.299 152.5,-140.299 149,-150.299 156,-150.299\"/>\r\n</g>\r\n<!-- 5 -->\r\n<g id=\"node6\" class=\"node\"><title>5</title>\r\n<polygon fill=\"#c0c0c0\" stroke=\"black\" points=\"121.5,-36 67.5,-36 67.5,-0 121.5,-0 121.5,-36\"/>\r\n<text text-anchor=\"middle\" x=\"94.5\" y=\"-14.3\" font-family=\"Times New Roman,serif\" font-size=\"14.00\">(...)</text>\r\n</g>\r\n<!-- 4&#45;&gt;5 -->\r\n<g id=\"edge5\" class=\"edge\"><title>4&#45;&gt;5</title>\r\n<path fill=\"none\" stroke=\"black\" d=\"M130.242,-71.9961C124.172,-62.9962 117.685,-53.3778 111.926,-44.8393\"/>\r\n<polygon fill=\"black\" stroke=\"black\" points=\"114.73,-42.7371 106.237,-36.4034 108.927,-46.6511 114.73,-42.7371\"/>\r\n</g>\r\n<!-- 8 -->\r\n<g id=\"node7\" class=\"node\"><title>8</title>\r\n<polygon fill=\"#c0c0c0\" stroke=\"black\" points=\"193.5,-36 139.5,-36 139.5,-0 193.5,-0 193.5,-36\"/>\r\n<text text-anchor=\"middle\" x=\"166.5\" y=\"-14.3\" font-family=\"Times New Roman,serif\" font-size=\"14.00\">(...)</text>\r\n</g>\r\n<!-- 4&#45;&gt;8 -->\r\n<g id=\"edge6\" class=\"edge\"><title>4&#45;&gt;8</title>\r\n<path fill=\"none\" stroke=\"black\" d=\"M157.873,-71.9961C159.245,-63.5646 160.706,-54.5902 162.028,-46.4696\"/>\r\n<polygon fill=\"black\" stroke=\"black\" points=\"165.515,-46.8359 163.667,-36.4034 158.606,-45.7111 165.515,-46.8359\"/>\r\n</g>\r\n<!-- 12 -->\r\n<g id=\"node9\" class=\"node\"><title>12</title>\r\n<polygon fill=\"#e88e4d\" stroke=\"black\" points=\"345,-140 220,-140 220,-72 345,-72 345,-140\"/>\r\n<text text-anchor=\"middle\" x=\"282.5\" y=\"-124.8\" font-family=\"Times New Roman,serif\" font-size=\"14.00\">PTRATIO &lt;= 17.9</text>\r\n<text text-anchor=\"middle\" x=\"282.5\" y=\"-109.8\" font-family=\"Times New Roman,serif\" font-size=\"14.00\">mse = 20.25</text>\r\n<text text-anchor=\"middle\" x=\"282.5\" y=\"-94.8\" font-family=\"Times New Roman,serif\" font-size=\"14.00\">samples = 25</text>\r\n<text text-anchor=\"middle\" x=\"282.5\" y=\"-79.8\" font-family=\"Times New Roman,serif\" font-size=\"14.00\">value = 45.824</text>\r\n</g>\r\n<!-- 11&#45;&gt;12 -->\r\n<g id=\"edge8\" class=\"edge\"><title>11&#45;&gt;12</title>\r\n<path fill=\"none\" stroke=\"black\" d=\"M341.254,-175.884C333.656,-166.976 325.348,-157.235 317.434,-147.957\"/>\r\n<polygon fill=\"black\" stroke=\"black\" points=\"320.055,-145.636 310.902,-140.299 314.729,-150.179 320.055,-145.636\"/>\r\n</g>\r\n<!-- 19 -->\r\n<g id=\"node12\" class=\"node\"><title>19</title>\r\n<polygon fill=\"#f7d7c1\" stroke=\"black\" points=\"448,-132.5 363,-132.5 363,-79.5 448,-79.5 448,-132.5\"/>\r\n<text text-anchor=\"middle\" x=\"405.5\" y=\"-117.3\" font-family=\"Times New Roman,serif\" font-size=\"14.00\">mse = &#45;0.0</text>\r\n<text text-anchor=\"middle\" x=\"405.5\" y=\"-102.3\" font-family=\"Times New Roman,serif\" font-size=\"14.00\">samples = 1</text>\r\n<text text-anchor=\"middle\" x=\"405.5\" y=\"-87.3\" font-family=\"Times New Roman,serif\" font-size=\"14.00\">value = 21.9</text>\r\n</g>\r\n<!-- 11&#45;&gt;19 -->\r\n<g id=\"edge11\" class=\"edge\"><title>11&#45;&gt;19</title>\r\n<path fill=\"none\" stroke=\"black\" d=\"M381.188,-175.884C384.992,-165.106 389.227,-153.108 393.082,-142.184\"/>\r\n<polygon fill=\"black\" stroke=\"black\" points=\"396.465,-143.115 396.493,-132.52 389.864,-140.785 396.465,-143.115\"/>\r\n</g>\r\n<!-- 13 -->\r\n<g id=\"node10\" class=\"node\"><title>13</title>\r\n<polygon fill=\"#c0c0c0\" stroke=\"black\" points=\"294.5,-36 240.5,-36 240.5,-0 294.5,-0 294.5,-36\"/>\r\n<text text-anchor=\"middle\" x=\"267.5\" y=\"-14.3\" font-family=\"Times New Roman,serif\" font-size=\"14.00\">(...)</text>\r\n</g>\r\n<!-- 12&#45;&gt;13 -->\r\n<g id=\"edge9\" class=\"edge\"><title>12&#45;&gt;13</title>\r\n<path fill=\"none\" stroke=\"black\" d=\"M276.744,-71.9961C275.273,-63.5646 273.708,-54.5902 272.291,-46.4696\"/>\r\n<polygon fill=\"black\" stroke=\"black\" points=\"275.702,-45.6532 270.535,-36.4034 268.806,-46.8561 275.702,-45.6532\"/>\r\n</g>\r\n<!-- 16 -->\r\n<g id=\"node11\" class=\"node\"><title>16</title>\r\n<polygon fill=\"#c0c0c0\" stroke=\"black\" points=\"366.5,-36 312.5,-36 312.5,-0 366.5,-0 366.5,-36\"/>\r\n<text text-anchor=\"middle\" x=\"339.5\" y=\"-14.3\" font-family=\"Times New Roman,serif\" font-size=\"14.00\">(...)</text>\r\n</g>\r\n<!-- 12&#45;&gt;16 -->\r\n<g id=\"edge10\" class=\"edge\"><title>12&#45;&gt;16</title>\r\n<path fill=\"none\" stroke=\"black\" d=\"M304.375,-71.9961C310.34,-62.9962 316.715,-53.3778 322.374,-44.8393\"/>\r\n<polygon fill=\"black\" stroke=\"black\" points=\"325.358,-46.6724 327.965,-36.4034 319.523,-42.8052 325.358,-46.6724\"/>\r\n</g>\r\n<!-- 21 -->\r\n<g id=\"node14\" class=\"node\"><title>21</title>\r\n<polygon fill=\"#f7d8c1\" stroke=\"black\" points=\"599.5,-244 501.5,-244 501.5,-176 599.5,-176 599.5,-244\"/>\r\n<text text-anchor=\"middle\" x=\"550.5\" y=\"-228.8\" font-family=\"Times New Roman,serif\" font-size=\"14.00\">RM &lt;= 6.605</text>\r\n<text text-anchor=\"middle\" x=\"550.5\" y=\"-213.8\" font-family=\"Times New Roman,serif\" font-size=\"14.00\">mse = 20.913</text>\r\n<text text-anchor=\"middle\" x=\"550.5\" y=\"-198.8\" font-family=\"Times New Roman,serif\" font-size=\"14.00\">samples = 174</text>\r\n<text text-anchor=\"middle\" x=\"550.5\" y=\"-183.8\" font-family=\"Times New Roman,serif\" font-size=\"14.00\">value = 21.809</text>\r\n</g>\r\n<!-- 20&#45;&gt;21 -->\r\n<g id=\"edge13\" class=\"edge\"><title>20&#45;&gt;21</title>\r\n<path fill=\"none\" stroke=\"black\" d=\"M550.5,-279.884C550.5,-271.778 550.5,-262.982 550.5,-254.472\"/>\r\n<polygon fill=\"black\" stroke=\"black\" points=\"554,-254.299 550.5,-244.299 547,-254.299 554,-254.299\"/>\r\n</g>\r\n<!-- 34 -->\r\n<g id=\"node21\" class=\"node\"><title>34</title>\r\n<polygon fill=\"#fbeee4\" stroke=\"black\" points=\"811,-244 704,-244 704,-176 811,-176 811,-244\"/>\r\n<text text-anchor=\"middle\" x=\"757.5\" y=\"-228.8\" font-family=\"Times New Roman,serif\" font-size=\"14.00\">CRIM &lt;= 5.769</text>\r\n<text text-anchor=\"middle\" x=\"757.5\" y=\"-213.8\" font-family=\"Times New Roman,serif\" font-size=\"14.00\">mse = 18.821</text>\r\n<text text-anchor=\"middle\" x=\"757.5\" y=\"-198.8\" font-family=\"Times New Roman,serif\" font-size=\"14.00\">samples = 143</text>\r\n<text text-anchor=\"middle\" x=\"757.5\" y=\"-183.8\" font-family=\"Times New Roman,serif\" font-size=\"14.00\">value = 14.612</text>\r\n</g>\r\n<!-- 20&#45;&gt;34 -->\r\n<g id=\"edge20\" class=\"edge\"><title>20&#45;&gt;34</title>\r\n<path fill=\"none\" stroke=\"black\" d=\"M605.158,-286.067C632.719,-272.486 666.276,-255.951 694.873,-241.86\"/>\r\n<polygon fill=\"black\" stroke=\"black\" points=\"696.547,-244.937 703.97,-237.377 693.453,-238.658 696.547,-244.937\"/>\r\n</g>\r\n<!-- 22 -->\r\n<g id=\"node15\" class=\"node\"><title>22</title>\r\n<polygon fill=\"#f7dac5\" stroke=\"black\" points=\"564.5,-140 466.5,-140 466.5,-72 564.5,-72 564.5,-140\"/>\r\n<text text-anchor=\"middle\" x=\"515.5\" y=\"-124.8\" font-family=\"Times New Roman,serif\" font-size=\"14.00\">DIS &lt;= 1.227</text>\r\n<text text-anchor=\"middle\" x=\"515.5\" y=\"-109.8\" font-family=\"Times New Roman,serif\" font-size=\"14.00\">mse = 14.938</text>\r\n<text text-anchor=\"middle\" x=\"515.5\" y=\"-94.8\" font-family=\"Times New Roman,serif\" font-size=\"14.00\">samples = 154</text>\r\n<text text-anchor=\"middle\" x=\"515.5\" y=\"-79.8\" font-family=\"Times New Roman,serif\" font-size=\"14.00\">value = 21.025</text>\r\n</g>\r\n<!-- 21&#45;&gt;22 -->\r\n<g id=\"edge14\" class=\"edge\"><title>21&#45;&gt;22</title>\r\n<path fill=\"none\" stroke=\"black\" d=\"M539.137,-175.884C536.294,-167.6 533.204,-158.595 530.225,-149.911\"/>\r\n<polygon fill=\"black\" stroke=\"black\" points=\"533.482,-148.622 526.926,-140.299 526.861,-150.894 533.482,-148.622\"/>\r\n</g>\r\n<!-- 27 -->\r\n<g id=\"node18\" class=\"node\"><title>27</title>\r\n<polygon fill=\"#f3c5a4\" stroke=\"black\" points=\"690,-140 583,-140 583,-72 690,-72 690,-140\"/>\r\n<text text-anchor=\"middle\" x=\"636.5\" y=\"-124.8\" font-family=\"Times New Roman,serif\" font-size=\"14.00\">INDUS &lt;= 4.45</text>\r\n<text text-anchor=\"middle\" x=\"636.5\" y=\"-109.8\" font-family=\"Times New Roman,serif\" font-size=\"14.00\">mse = 25.75</text>\r\n<text text-anchor=\"middle\" x=\"636.5\" y=\"-94.8\" font-family=\"Times New Roman,serif\" font-size=\"14.00\">samples = 20</text>\r\n<text text-anchor=\"middle\" x=\"636.5\" y=\"-79.8\" font-family=\"Times New Roman,serif\" font-size=\"14.00\">value = 27.845</text>\r\n</g>\r\n<!-- 21&#45;&gt;27 -->\r\n<g id=\"edge17\" class=\"edge\"><title>21&#45;&gt;27</title>\r\n<path fill=\"none\" stroke=\"black\" d=\"M578.422,-175.884C585.932,-166.976 594.145,-157.235 601.968,-147.957\"/>\r\n<polygon fill=\"black\" stroke=\"black\" points=\"604.654,-150.201 608.424,-140.299 599.302,-145.689 604.654,-150.201\"/>\r\n</g>\r\n<!-- 23 -->\r\n<g id=\"node16\" class=\"node\"><title>23</title>\r\n<polygon fill=\"#c0c0c0\" stroke=\"black\" points=\"471.5,-36 417.5,-36 417.5,-0 471.5,-0 471.5,-36\"/>\r\n<text text-anchor=\"middle\" x=\"444.5\" y=\"-14.3\" font-family=\"Times New Roman,serif\" font-size=\"14.00\">(...)</text>\r\n</g>\r\n<!-- 22&#45;&gt;23 -->\r\n<g id=\"edge15\" class=\"edge\"><title>22&#45;&gt;23</title>\r\n<path fill=\"none\" stroke=\"black\" d=\"M488.253,-71.9961C480.666,-62.8067 472.547,-52.9725 465.388,-44.3014\"/>\r\n<polygon fill=\"black\" stroke=\"black\" points=\"467.933,-41.8867 458.868,-36.4034 462.535,-46.3432 467.933,-41.8867\"/>\r\n</g>\r\n<!-- 24 -->\r\n<g id=\"node17\" class=\"node\"><title>24</title>\r\n<polygon fill=\"#c0c0c0\" stroke=\"black\" points=\"543.5,-36 489.5,-36 489.5,-0 543.5,-0 543.5,-36\"/>\r\n<text text-anchor=\"middle\" x=\"516.5\" y=\"-14.3\" font-family=\"Times New Roman,serif\" font-size=\"14.00\">(...)</text>\r\n</g>\r\n<!-- 22&#45;&gt;24 -->\r\n<g id=\"edge16\" class=\"edge\"><title>22&#45;&gt;24</title>\r\n<path fill=\"none\" stroke=\"black\" d=\"M515.884,-71.9961C515.982,-63.5646 516.086,-54.5902 516.181,-46.4696\"/>\r\n<polygon fill=\"black\" stroke=\"black\" points=\"519.681,-46.4434 516.298,-36.4034 512.682,-46.362 519.681,-46.4434\"/>\r\n</g>\r\n<!-- 28 -->\r\n<g id=\"node19\" class=\"node\"><title>28</title>\r\n<polygon fill=\"#c0c0c0\" stroke=\"black\" points=\"616.5,-36 562.5,-36 562.5,-0 616.5,-0 616.5,-36\"/>\r\n<text text-anchor=\"middle\" x=\"589.5\" y=\"-14.3\" font-family=\"Times New Roman,serif\" font-size=\"14.00\">(...)</text>\r\n</g>\r\n<!-- 27&#45;&gt;28 -->\r\n<g id=\"edge18\" class=\"edge\"><title>27&#45;&gt;28</title>\r\n<path fill=\"none\" stroke=\"black\" d=\"M618.463,-71.9961C613.648,-63.1856 608.509,-53.7825 603.917,-45.38\"/>\r\n<polygon fill=\"black\" stroke=\"black\" points=\"606.878,-43.4999 599.011,-36.4034 600.736,-46.857 606.878,-43.4999\"/>\r\n</g>\r\n<!-- 31 -->\r\n<g id=\"node20\" class=\"node\"><title>31</title>\r\n<polygon fill=\"#c0c0c0\" stroke=\"black\" points=\"688.5,-36 634.5,-36 634.5,-0 688.5,-0 688.5,-36\"/>\r\n<text text-anchor=\"middle\" x=\"661.5\" y=\"-14.3\" font-family=\"Times New Roman,serif\" font-size=\"14.00\">(...)</text>\r\n</g>\r\n<!-- 27&#45;&gt;31 -->\r\n<g id=\"edge19\" class=\"edge\"><title>27&#45;&gt;31</title>\r\n<path fill=\"none\" stroke=\"black\" d=\"M646.094,-71.9961C648.573,-63.4699 651.213,-54.3885 653.594,-46.1962\"/>\r\n<polygon fill=\"black\" stroke=\"black\" points=\"657.01,-46.9829 656.441,-36.4034 650.289,-45.0289 657.01,-46.9829\"/>\r\n</g>\r\n<!-- 35 -->\r\n<g id=\"node22\" class=\"node\"><title>35</title>\r\n<polygon fill=\"#fae7d9\" stroke=\"black\" points=\"806.5,-140 708.5,-140 708.5,-72 806.5,-72 806.5,-140\"/>\r\n<text text-anchor=\"middle\" x=\"757.5\" y=\"-124.8\" font-family=\"Times New Roman,serif\" font-size=\"14.00\">AGE &lt;= 73.3</text>\r\n<text text-anchor=\"middle\" x=\"757.5\" y=\"-109.8\" font-family=\"Times New Roman,serif\" font-size=\"14.00\">mse = 11.924</text>\r\n<text text-anchor=\"middle\" x=\"757.5\" y=\"-94.8\" font-family=\"Times New Roman,serif\" font-size=\"14.00\">samples = 75</text>\r\n<text text-anchor=\"middle\" x=\"757.5\" y=\"-79.8\" font-family=\"Times New Roman,serif\" font-size=\"14.00\">value = 16.855</text>\r\n</g>\r\n<!-- 34&#45;&gt;35 -->\r\n<g id=\"edge21\" class=\"edge\"><title>34&#45;&gt;35</title>\r\n<path fill=\"none\" stroke=\"black\" d=\"M757.5,-175.884C757.5,-167.778 757.5,-158.982 757.5,-150.472\"/>\r\n<polygon fill=\"black\" stroke=\"black\" points=\"761,-150.299 757.5,-140.299 754,-150.299 761,-150.299\"/>\r\n</g>\r\n<!-- 42 -->\r\n<g id=\"node25\" class=\"node\"><title>42</title>\r\n<polygon fill=\"#fdf6f0\" stroke=\"black\" points=\"946.5,-140 824.5,-140 824.5,-72 946.5,-72 946.5,-140\"/>\r\n<text text-anchor=\"middle\" x=\"885.5\" y=\"-124.8\" font-family=\"Times New Roman,serif\" font-size=\"14.00\">LSTAT &lt;= 20.195</text>\r\n<text text-anchor=\"middle\" x=\"885.5\" y=\"-109.8\" font-family=\"Times New Roman,serif\" font-size=\"14.00\">mse = 14.761</text>\r\n<text text-anchor=\"middle\" x=\"885.5\" y=\"-94.8\" font-family=\"Times New Roman,serif\" font-size=\"14.00\">samples = 68</text>\r\n<text text-anchor=\"middle\" x=\"885.5\" y=\"-79.8\" font-family=\"Times New Roman,serif\" font-size=\"14.00\">value = 12.138</text>\r\n</g>\r\n<!-- 34&#45;&gt;42 -->\r\n<g id=\"edge24\" class=\"edge\"><title>34&#45;&gt;42</title>\r\n<path fill=\"none\" stroke=\"black\" d=\"M799.058,-175.884C810.795,-166.531 823.684,-156.259 835.846,-146.568\"/>\r\n<polygon fill=\"black\" stroke=\"black\" points=\"838.073,-149.269 843.713,-140.299 833.711,-143.794 838.073,-149.269\"/>\r\n</g>\r\n<!-- 36 -->\r\n<g id=\"node23\" class=\"node\"><title>36</title>\r\n<polygon fill=\"#c0c0c0\" stroke=\"black\" points=\"762.5,-36 708.5,-36 708.5,-0 762.5,-0 762.5,-36\"/>\r\n<text text-anchor=\"middle\" x=\"735.5\" y=\"-14.3\" font-family=\"Times New Roman,serif\" font-size=\"14.00\">(...)</text>\r\n</g>\r\n<!-- 35&#45;&gt;36 -->\r\n<g id=\"edge22\" class=\"edge\"><title>35&#45;&gt;36</title>\r\n<path fill=\"none\" stroke=\"black\" d=\"M749.057,-71.9961C746.876,-63.4699 744.553,-54.3885 742.457,-46.1962\"/>\r\n<polygon fill=\"black\" stroke=\"black\" points=\"745.821,-45.224 739.952,-36.4034 739.04,-46.9589 745.821,-45.224\"/>\r\n</g>\r\n<!-- 39 -->\r\n<g id=\"node24\" class=\"node\"><title>39</title>\r\n<polygon fill=\"#c0c0c0\" stroke=\"black\" points=\"834.5,-36 780.5,-36 780.5,-0 834.5,-0 834.5,-36\"/>\r\n<text text-anchor=\"middle\" x=\"807.5\" y=\"-14.3\" font-family=\"Times New Roman,serif\" font-size=\"14.00\">(...)</text>\r\n</g>\r\n<!-- 35&#45;&gt;39 -->\r\n<g id=\"edge23\" class=\"edge\"><title>35&#45;&gt;39</title>\r\n<path fill=\"none\" stroke=\"black\" d=\"M776.688,-71.9961C781.866,-63.0909 787.395,-53.5802 792.32,-45.1093\"/>\r\n<polygon fill=\"black\" stroke=\"black\" points=\"795.381,-46.8077 797.382,-36.4034 789.33,-43.2893 795.381,-46.8077\"/>\r\n</g>\r\n<!-- 43 -->\r\n<g id=\"node26\" class=\"node\"><title>43</title>\r\n<polygon fill=\"#c0c0c0\" stroke=\"black\" points=\"911.5,-36 857.5,-36 857.5,-0 911.5,-0 911.5,-36\"/>\r\n<text text-anchor=\"middle\" x=\"884.5\" y=\"-14.3\" font-family=\"Times New Roman,serif\" font-size=\"14.00\">(...)</text>\r\n</g>\r\n<!-- 42&#45;&gt;43 -->\r\n<g id=\"edge25\" class=\"edge\"><title>42&#45;&gt;43</title>\r\n<path fill=\"none\" stroke=\"black\" d=\"M885.116,-71.9961C885.018,-63.5646 884.914,-54.5902 884.819,-46.4696\"/>\r\n<polygon fill=\"black\" stroke=\"black\" points=\"888.318,-46.362 884.702,-36.4034 881.319,-46.4434 888.318,-46.362\"/>\r\n</g>\r\n<!-- 46 -->\r\n<g id=\"node27\" class=\"node\"><title>46</title>\r\n<polygon fill=\"#c0c0c0\" stroke=\"black\" points=\"983.5,-36 929.5,-36 929.5,-0 983.5,-0 983.5,-36\"/>\r\n<text text-anchor=\"middle\" x=\"956.5\" y=\"-14.3\" font-family=\"Times New Roman,serif\" font-size=\"14.00\">(...)</text>\r\n</g>\r\n<!-- 42&#45;&gt;46 -->\r\n<g id=\"edge26\" class=\"edge\"><title>42&#45;&gt;46</title>\r\n<path fill=\"none\" stroke=\"black\" d=\"M912.747,-71.9961C920.334,-62.8067 928.453,-52.9725 935.612,-44.3014\"/>\r\n<polygon fill=\"black\" stroke=\"black\" points=\"938.465,-46.3432 942.132,-36.4034 933.067,-41.8867 938.465,-46.3432\"/>\r\n</g>\r\n</g>\r\n</svg>\r\n"
     },
     "metadata": {},
     "execution_count": 4
    }
   ],
   "source": [
    "import graphviz\n",
    "from sklearn.tree import export_graphviz\n",
    "g = export_graphviz(reg, \n",
    "                    feature_names=boston[\"feature_names\"],\n",
    "                    max_depth=3,\n",
    "                    filled=True)\n",
    "graphviz.Source(g)"
   ]
  },
  {
   "cell_type": "code",
   "execution_count": 5,
   "metadata": {},
   "outputs": [
    {
     "output_type": "execute_result",
     "data": {
      "text/plain": "0.8967026175853595"
     },
     "metadata": {},
     "execution_count": 5
    }
   ],
   "source": [
    "from sklearn.metrics import r2_score\n",
    "pre = reg.predict(x_test)\n",
    "r2_score(y_test, pre)"
   ]
  }
 ],
 "metadata": {
  "kernelspec": {
   "display_name": "Python 3",
   "language": "python",
   "name": "python3"
  },
  "language_info": {
   "codemirror_mode": {
    "name": "ipython",
    "version": 3
   },
   "file_extension": ".py",
   "mimetype": "text/x-python",
   "name": "python",
   "nbconvert_exporter": "python",
   "pygments_lexer": "ipython3",
   "version": "3.8.2-final"
  }
 },
 "nbformat": 4,
 "nbformat_minor": 4
}