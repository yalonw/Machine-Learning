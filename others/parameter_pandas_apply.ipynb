{
 "cells": [
  {
   "cell_type": "code",
   "execution_count": 3,
   "metadata": {},
   "outputs": [
    {
     "name": "stdout",
     "output_type": "stream",
     "text": [
      "5\n",
      "{'c': 1, 'd': 5, 'e': 6}\n"
     ]
    }
   ],
   "source": [
    "def test1(a, **kwargs):\n",
    "    print(a)\n",
    "    print(kwargs)\n",
    "test1(5, c=1, d=5, e=6)"
   ]
  },
  {
   "cell_type": "code",
   "execution_count": 12,
   "metadata": {},
   "outputs": [
    {
     "name": "stdout",
     "output_type": "stream",
     "text": [
      "31\n"
     ]
    }
   ],
   "source": [
    "def test2(a, r=1, b=2):\n",
    "    print(a * r + b)\n",
    "params = {\n",
    "    \"r\":5,\n",
    "    \"b\":6\n",
    "}\n",
    "test2(5, **params)"
   ]
  },
  {
   "cell_type": "code",
   "execution_count": 13,
   "metadata": {},
   "outputs": [
    {
     "name": "stdout",
     "output_type": "stream",
     "text": [
      "5\n",
      "(2, 1, 4, 3)\n"
     ]
    }
   ],
   "source": [
    "def test3(a, *args):\n",
    "    print(a)\n",
    "    print(args)\n",
    "test3(5, 2, 1, 4, 3)"
   ]
  },
  {
   "cell_type": "code",
   "execution_count": 15,
   "metadata": {},
   "outputs": [
    {
     "name": "stdout",
     "output_type": "stream",
     "text": [
      "10 2 5 3\n"
     ]
    }
   ],
   "source": [
    "def test4(a, b, c, d):\n",
    "    print(a, b, c, d)\n",
    "params = [2, 5, 3]\n",
    "test4(10, *params)"
   ]
  },
  {
   "cell_type": "code",
   "execution_count": 1,
   "metadata": {},
   "outputs": [],
   "source": [
    "import pandas as pd\n",
    "train_df = pd.read_csv(\"titanic/train.csv\", encoding=\"utf-8\")\n",
    "test_df = pd.read_csv(\"titanic/test.csv\", encoding=\"utf-8\")"
   ]
  },
  {
   "cell_type": "code",
   "execution_count": 10,
   "metadata": {
    "collapsed": true
   },
   "outputs": [
    {
     "data": {
      "text/plain": [
       "0      81\n",
       "1       9\n",
       "2      81\n",
       "3       9\n",
       "4      81\n",
       "       ..\n",
       "886    36\n",
       "887     9\n",
       "888    81\n",
       "889     9\n",
       "890    81\n",
       "Name: Pclass, Length: 891, dtype: int64"
      ]
     },
     "execution_count": 10,
     "metadata": {},
     "output_type": "execute_result"
    }
   ],
   "source": [
    "def test(n, r=2, m=1):\n",
    "    return (n * r) ** m\n",
    "train_df[\"Pclass\"].apply(test, m=2, r=3)"
   ]
  },
  {
   "cell_type": "code",
   "execution_count": 9,
   "metadata": {
    "collapsed": true
   },
   "outputs": [
    {
     "data": {
      "text/plain": [
       "0      1728\n",
       "1        64\n",
       "2      1728\n",
       "3        64\n",
       "4      1728\n",
       "       ... \n",
       "886     512\n",
       "887      64\n",
       "888    1728\n",
       "889      64\n",
       "890    1728\n",
       "Name: Pclass, Length: 891, dtype: int64"
      ]
     },
     "execution_count": 9,
     "metadata": {},
     "output_type": "execute_result"
    }
   ],
   "source": [
    "def test(n, r, m):\n",
    "    return (n * r) ** m\n",
    "train_df[\"Pclass\"].apply(test, args=(4, 3))"
   ]
  }
 ],
 "metadata": {
  "kernelspec": {
   "display_name": "Python 3",
   "language": "python",
   "name": "python3"
  },
  "language_info": {
   "codemirror_mode": {
    "name": "ipython",
    "version": 3
   },
   "file_extension": ".py",
   "mimetype": "text/x-python",
   "name": "python",
   "nbconvert_exporter": "python",
   "pygments_lexer": "ipython3",
   "version": "3.7.6"
  }
 },
 "nbformat": 4,
 "nbformat_minor": 4
}