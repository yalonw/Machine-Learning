{
 "cells": [
  {
   "cell_type": "markdown",
   "metadata": {},
   "source": [
    "# RandomForest 隨機森林\n",
    "- [`RandomForestClassifier`](https://scikit-learn.org/stable/modules/generated/sklearn.ensemble.RandomForestClassifier.html)，隨機森林的重點是「**隨機**」   \n",
    "- 隨機：隨機放棄 10~20% 的訓練資料 \n",
    "- 森林：這裡指的是 Decision Tree，但也可以是 Naive_Bayes 或 KNN\n",
    "- **隨機森林** 是 **決策樹** 的升級版"
   ],
   "execution_count": null,
   "outputs": []
  },
  {
   "cell_type": "markdown",
   "metadata": {},
   "source": [
    "-------------------------------------------------------------------------------------- \n",
    "### Ensemble learning（集成學習）\n",
    "1. **Boosting（連續組合）**：\n",
    "  - 分類器 classifier：  \n",
    "    一個訓練完，才訓練下一個；所以每個 classifier 都會依賴上一個 classifier   \n",
    "\n",
    "    classifier_1 -> classifier_2 -> classifier_3 -> 結果  \n",
    "\n",
    "  - 訓練樣本 train_df：  \n",
    "    每次選擇的 train_df 都是同一組，但每次每個訓練樣本的權重不同；  \n",
    "    **權重**是依據上次的訓練結果，上次分類錯誤的樣本（misclassified data），在下次訓練時權重會提高  \n",
    "\n",
    "  - 例如：`AdaBoost`、`XGBoost`\n",
    "  \n",
    "2. **Bagging（平行組合）**：\n",
    "  - 分類器 classifier：  \n",
    "    每個 classifier 可以並行生成，但每個模型要略有不同；  \n",
    "    每個 classifier 權重一致，最後用投票的方式（Majority vote）取得最終結果  \n",
    "\n",
    "    classifier_1 \\   \n",
    "    classifier_2 ──> Majority vote -> 結果  \n",
    "    classifier_3 /  \n",
    "\n",
    "  - 訓練樣本 train_df：  \n",
    "    每次選擇的 train_df 都是隨機抽取，且每次每個訓練樣本的權重一致\n",
    "\n",
    "  - 例如：`RandomForestClassifier` 隨機森林"
   ]
  },
  {
   "cell_type": "markdown",
   "metadata": {},
   "source": [
    "## step1: 準備訓練資料"
   ]
  },
  {
   "cell_type": "code",
   "execution_count": 1,
   "metadata": {},
   "outputs": [],
   "source": [
    "import pandas as pd\n",
    "\n",
    "train_df = pd.read_csv(\"titanic/train.csv\", encoding=\"utf-8\")\n",
    "test_df = pd.read_csv(\"titanic/test.csv\", encoding=\"utf-8\")"
   ]
  },
  {
   "cell_type": "markdown",
   "metadata": {},
   "source": [
    "### 觀察特徵類型：\n",
    "- 無用：PassengerId(刪)\n",
    "- 答案：Survived\n",
    "- 數值：Age, SibSp, Parch, Fare\n",
    "- 類別：Pclass, Name(取出稱謂salutation), Sex, Ticket(刪，不知怎麼用), Cabin(刪，缺失值太多), Embarked"
   ],
   "execution_count": null,
   "outputs": []
  },
  {
   "cell_type": "code",
   "execution_count": 2,
   "metadata": {},
   "outputs": [
    {
     "output_type": "execute_result",
     "data": {
      "text/plain": "PassengerId      0\nSurvived         0\nPclass           0\nName             0\nSex              0\nAge            177\nSibSp            0\nParch            0\nTicket           0\nFare             0\nCabin          687\nEmbarked         2\ndtype: int64"
     },
     "metadata": {},
     "execution_count": 2
    }
   ],
   "source": [
    "# 統計每個欄位缺失值（NA）數量：sum(False=0, True=1)\n",
    "train_df.isna().sum()"
   ]
  },
  {
   "cell_type": "code",
   "execution_count": 3,
   "metadata": {},
   "outputs": [],
   "source": [
    "# 填補缺失值_訓練資料：數值型，填中位數\n",
    "med = train_df.median()\n",
    "train_df = train_df.fillna(med)\n",
    "\n",
    "# 填補缺失值_測試資料：數值型，用訓練資料算出來的中位數\n",
    "test_df = test_df.fillna(med)"
   ]
  },
  {
   "cell_type": "code",
   "execution_count": 4,
   "metadata": {},
   "outputs": [],
   "source": [
    "# 填補缺失值_訓練資料：類別型，填出現最多的選項\n",
    "most = train_df[\"Embarked\"].value_counts().idxmax()\n",
    "train_df[\"Embarked\"] = train_df[\"Embarked\"].fillna(most)\n",
    "\n",
    "# 填補缺失值_測試資料：類別型，用訓練資料找出來的的選項\n",
    "test_df[\"Embarked\"] = test_df[\"Embarked\"].fillna(most)"
   ]
  },
  {
   "cell_type": "code",
   "execution_count": 5,
   "metadata": {},
   "outputs": [
    {
     "output_type": "execute_result",
     "data": {
      "text/plain": "Index(['Mr', 'Miss', 'Mrs', 'Master'], dtype='object')"
     },
     "metadata": {},
     "execution_count": 5
    }
   ],
   "source": [
    "def namecut(s):\n",
    "    return s.split(\",\")[-1].split(\".\")[0].strip()\n",
    "\n",
    "# 統計稱謂出現的的次數\n",
    "salutation = train_df[\"Name\"].apply(namecut).value_counts()\n",
    "# 列出數量大於30的稱謂\n",
    "reserved = salutation[salutation > 30].index\n",
    "reserved"
   ]
  },
  {
   "cell_type": "code",
   "execution_count": 6,
   "metadata": {},
   "outputs": [],
   "source": [
    "def namecut_2(s):\n",
    "    s = s.split(\",\")[-1].split(\".\")[0].strip()\n",
    "    if s in reserved:\n",
    "        return s \n",
    "    else:\n",
    "        return None\n",
    "\n",
    "# namecut_2：稱謂數量大於30的保留，小於30的改為None\n",
    "# reserved ：數量大於30的稱謂 = ['Mr', 'Miss', 'Mrs', 'Master']\n",
    "train_df[\"Name\"] = train_df[\"Name\"].apply(namecut_2)\n",
    "test_df[\"Name\"] = test_df[\"Name\"].apply(namecut_2)"
   ]
  },
  {
   "cell_type": "code",
   "execution_count": 7,
   "metadata": {},
   "outputs": [],
   "source": [
    "# 對類別型特徵做 One-Hot Encoding\n",
    "train_raw = pd.get_dummies(train_df, columns=[\"Name\", \"Sex\", \"Embarked\"])\n",
    "test_raw = pd.get_dummies(test_df, columns=[\"Name\", \"Sex\", \"Embarked\"])"
   ]
  },
  {
   "cell_type": "code",
   "execution_count": 8,
   "metadata": {},
   "outputs": [],
   "source": [
    "# 資料清洗 Data Cleansing\n",
    "x_train = train_raw.drop([\"PassengerId\", \"Survived\", \"Ticket\", \"Cabin\"], axis=1)\n",
    "y_train = train_raw[\"Survived\"]\n",
    "x_test = test_raw.drop([\"PassengerId\", \"Ticket\", \"Cabin\"], axis=1)\n",
    "testid = test_raw[\"PassengerId\"]"
   ]
  },
  {
   "cell_type": "markdown",
   "metadata": {},
   "source": [
    "## step2: 建立訓練模型"
   ]
  },
  {
   "cell_type": "markdown",
   "metadata": {},
   "source": [
    "### 交叉驗證（cross validation，CV）  \n",
    "是用來選擇最佳或合適的 **預測參數**    \n",
    "\n",
    "1. [cross_val_score](https://scikit-learn.org/stable/modules/generated/sklearn.model_selection.cross_val_score.html)  \n",
    "  - 參數要自己提供（靠通靈XD），通常會先從 `max_depth=5, n_estimators=20` 開始慢慢試  \n",
    "  - `cv=10` 表示把資料切割成 10 份，做 10 次交叉驗證，故會得到 10 個預測結果  \n",
    "  - 再透過 `np.average(score)` 取得預測結果平均\n",
    "  - 資料分割的差異：\n",
    "    - `train_test_split()`：  \n",
    "      是將 data 分成 2 份，一份做為 train_data，一份做為 test_data  \n",
    "    - `cross_val_score()`：  \n",
    "      是將 data 分成 X 份，每次選一份做為 test_data，剩下的 x-1 份做為 train_data  \n",
    "\n",
    "2. [GridSearchCV](https://scikit-learn.org/stable/modules/generated/sklearn.model_selection.GridSearchCV.html)  \n",
    "  - 暴力搜索版的交叉驗證  \n",
    "  - 參數給一段 range，模型會把所有參數跑一遍，然後自己找出最佳解  \n",
    "  - `cv=10` 表示要做 10 次交叉驗證，但只會給 1 個最佳預測結果"
   ]
  },
  {
   "cell_type": "markdown",
   "metadata": {},
   "source": [
    "#### 交叉驗證 (第一種)：sklearn.model_selection.cross_val_score"
   ]
  },
  {
   "cell_type": "code",
   "execution_count": 9,
   "metadata": {},
   "outputs": [
    {
     "output_type": "stream",
     "name": "stdout",
     "text": "score: \n [0.78888889 0.85393258 0.76404494 0.88764045 0.88764045 0.83146067\n 0.82022472 0.7752809  0.88764045 0.84269663]\naverage:  0.8339450686641697\n"
    }
   ],
   "source": [
    "from sklearn.ensemble import RandomForestClassifier\n",
    "from sklearn.model_selection import cross_val_score\n",
    "import numpy as np\n",
    "\n",
    "# 調整參數靠通靈 XD ────────────────────┐────────────────┐\n",
    "clf = RandomForestClassifier(max_depth=8, n_estimators=26) \n",
    "# 交叉驗證（cross validation，CV）\n",
    "# cv=10 表示要做 10 次交叉驗證\n",
    "score = cross_val_score(clf, x_train, y_train, cv=10, n_jobs=4)\n",
    "\n",
    "print(\"score: \\n\", score)\n",
    "print(\"average: \", np.average(score))"
   ]
  },
  {
   "cell_type": "markdown",
   "metadata": {},
   "source": [
    "#### 交叉驗證 (第二種)：sklearn.model_selection.GridSearchCV"
   ]
  },
  {
   "cell_type": "code",
   "execution_count": 10,
   "metadata": {},
   "outputs": [
    {
     "output_type": "stream",
     "name": "stdout",
     "text": "best params:  {'max_depth': 8, 'n_estimators': 36}\nbest score:  0.8440449438202247\n"
    }
   ],
   "source": [
    "from sklearn.ensemble import RandomForestClassifier\n",
    "from sklearn.model_selection import GridSearchCV\n",
    "\n",
    "clf = RandomForestClassifier()\n",
    "params = {\n",
    "    \"max_depth\":range(5, 11),\n",
    "    \"n_estimators\":range(25, 40, 1)\n",
    "}\n",
    "# 交叉驗證（暴力搜索版）：參數給一段 range，讓模型自己找出最佳解\n",
    "# cv=10 表示要做 10 次交叉驗證\n",
    "cv = GridSearchCV(clf, params, cv=10, n_jobs=4)\n",
    "cv.fit(x_train, y_train)\n",
    "\n",
    "print(\"best params: \", cv.best_params_)\n",
    "print(\"best score: \", cv.best_score_)"
   ]
  },
  {
   "cell_type": "code",
   "execution_count": 11,
   "metadata": {},
   "outputs": [
    {
     "output_type": "execute_result",
     "data": {
      "text/plain": "RandomForestClassifier(bootstrap=True, ccp_alpha=0.0, class_weight=None,\n                       criterion='gini', max_depth=8, max_features='auto',\n                       max_leaf_nodes=None, max_samples=None,\n                       min_impurity_decrease=0.0, min_impurity_split=None,\n                       min_samples_leaf=1, min_samples_split=2,\n                       min_weight_fraction_leaf=0.0, n_estimators=26,\n                       n_jobs=None, oob_score=False, random_state=None,\n                       verbose=0, warm_start=False)"
     },
     "metadata": {},
     "execution_count": 11
    }
   ],
   "source": [
    "# 看起來最佳的參數\n",
    "clf = RandomForestClassifier(max_depth=8, n_estimators=26)\n",
    "clf.fit(x_train, y_train)"
   ]
  },
  {
   "cell_type": "markdown",
   "metadata": {},
   "source": [
    "## step3: 利用模型預測"
   ]
  },
  {
   "cell_type": "code",
   "execution_count": 12,
   "metadata": {},
   "outputs": [
    {
     "output_type": "execute_result",
     "data": {
      "text/plain": "     PassengerId  Survived\n0            892         0\n1            893         0\n2            894         0\n3            895         0\n4            896         1\n..           ...       ...\n413         1305         0\n414         1306         1\n415         1307         0\n416         1308         0\n417         1309         1\n\n[418 rows x 2 columns]",
      "text/html": "<div>\n<style scoped>\n    .dataframe tbody tr th:only-of-type {\n        vertical-align: middle;\n    }\n\n    .dataframe tbody tr th {\n        vertical-align: top;\n    }\n\n    .dataframe thead th {\n        text-align: right;\n    }\n</style>\n<table border=\"1\" class=\"dataframe\">\n  <thead>\n    <tr style=\"text-align: right;\">\n      <th></th>\n      <th>PassengerId</th>\n      <th>Survived</th>\n    </tr>\n  </thead>\n  <tbody>\n    <tr>\n      <th>0</th>\n      <td>892</td>\n      <td>0</td>\n    </tr>\n    <tr>\n      <th>1</th>\n      <td>893</td>\n      <td>0</td>\n    </tr>\n    <tr>\n      <th>2</th>\n      <td>894</td>\n      <td>0</td>\n    </tr>\n    <tr>\n      <th>3</th>\n      <td>895</td>\n      <td>0</td>\n    </tr>\n    <tr>\n      <th>4</th>\n      <td>896</td>\n      <td>1</td>\n    </tr>\n    <tr>\n      <th>...</th>\n      <td>...</td>\n      <td>...</td>\n    </tr>\n    <tr>\n      <th>413</th>\n      <td>1305</td>\n      <td>0</td>\n    </tr>\n    <tr>\n      <th>414</th>\n      <td>1306</td>\n      <td>1</td>\n    </tr>\n    <tr>\n      <th>415</th>\n      <td>1307</td>\n      <td>0</td>\n    </tr>\n    <tr>\n      <th>416</th>\n      <td>1308</td>\n      <td>0</td>\n    </tr>\n    <tr>\n      <th>417</th>\n      <td>1309</td>\n      <td>1</td>\n    </tr>\n  </tbody>\n</table>\n<p>418 rows × 2 columns</p>\n</div>"
     },
     "metadata": {},
     "execution_count": 12
    }
   ],
   "source": [
    "pre = clf.predict(x_test)\n",
    "result_df = pd.DataFrame({\n",
    "    \"PassengerId\":testid,\n",
    "    \"Survived\":pre\n",
    "})\n",
    "# 不要儲存列編號：index=False\n",
    "result_df.to_csv(\"titanic/predict_result_RF.csv\", index=False, encoding=\"utf-8\")\n",
    "result_df"
   ]
  },
  {
   "cell_type": "markdown",
   "metadata": {},
   "source": [
    "### 觀察特徵重要性：`feature_importances_`"
   ]
  },
  {
   "cell_type": "code",
   "execution_count": 13,
   "metadata": {},
   "outputs": [
    {
     "output_type": "execute_result",
     "data": {
      "text/plain": "         column  importance\n10     Sex_male    0.186441\n4          Fare    0.161957\n7       Name_Mr    0.132439\n1           Age    0.124302\n0        Pclass    0.098631\n8      Name_Mrs    0.065875\n2         SibSp    0.051795\n9    Sex_female    0.049203\n6     Name_Miss    0.037002\n3         Parch    0.035602\n5   Name_Master    0.019298\n13   Embarked_S    0.018192\n11   Embarked_C    0.010128\n12   Embarked_Q    0.009137",
      "text/html": "<div>\n<style scoped>\n    .dataframe tbody tr th:only-of-type {\n        vertical-align: middle;\n    }\n\n    .dataframe tbody tr th {\n        vertical-align: top;\n    }\n\n    .dataframe thead th {\n        text-align: right;\n    }\n</style>\n<table border=\"1\" class=\"dataframe\">\n  <thead>\n    <tr style=\"text-align: right;\">\n      <th></th>\n      <th>column</th>\n      <th>importance</th>\n    </tr>\n  </thead>\n  <tbody>\n    <tr>\n      <th>10</th>\n      <td>Sex_male</td>\n      <td>0.186441</td>\n    </tr>\n    <tr>\n      <th>4</th>\n      <td>Fare</td>\n      <td>0.161957</td>\n    </tr>\n    <tr>\n      <th>7</th>\n      <td>Name_Mr</td>\n      <td>0.132439</td>\n    </tr>\n    <tr>\n      <th>1</th>\n      <td>Age</td>\n      <td>0.124302</td>\n    </tr>\n    <tr>\n      <th>0</th>\n      <td>Pclass</td>\n      <td>0.098631</td>\n    </tr>\n    <tr>\n      <th>8</th>\n      <td>Name_Mrs</td>\n      <td>0.065875</td>\n    </tr>\n    <tr>\n      <th>2</th>\n      <td>SibSp</td>\n      <td>0.051795</td>\n    </tr>\n    <tr>\n      <th>9</th>\n      <td>Sex_female</td>\n      <td>0.049203</td>\n    </tr>\n    <tr>\n      <th>6</th>\n      <td>Name_Miss</td>\n      <td>0.037002</td>\n    </tr>\n    <tr>\n      <th>3</th>\n      <td>Parch</td>\n      <td>0.035602</td>\n    </tr>\n    <tr>\n      <th>5</th>\n      <td>Name_Master</td>\n      <td>0.019298</td>\n    </tr>\n    <tr>\n      <th>13</th>\n      <td>Embarked_S</td>\n      <td>0.018192</td>\n    </tr>\n    <tr>\n      <th>11</th>\n      <td>Embarked_C</td>\n      <td>0.010128</td>\n    </tr>\n    <tr>\n      <th>12</th>\n      <td>Embarked_Q</td>\n      <td>0.009137</td>\n    </tr>\n  </tbody>\n</table>\n</div>"
     },
     "metadata": {},
     "execution_count": 13
    }
   ],
   "source": [
    "pd.DataFrame({\n",
    "    \"column\":x_train.columns,\n",
    "    \"importance\":clf.feature_importances_\n",
    "}).sort_values(\"importance\", ascending=False)"
   ]
  }
 ],
 "metadata": {
  "kernelspec": {
   "display_name": "Python 3",
   "language": "python",
   "name": "python3"
  },
  "language_info": {
   "codemirror_mode": {
    "name": "ipython",
    "version": 3
   },
   "file_extension": ".py",
   "mimetype": "text/x-python",
   "name": "python",
   "nbconvert_exporter": "python",
   "pygments_lexer": "ipython3",
   "version": "3.8.2-final"
  }
 },
 "nbformat": 4,
 "nbformat_minor": 4
}