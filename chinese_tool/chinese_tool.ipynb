{
 "cells": [
  {
   "cell_type": "markdown",
   "metadata": {},
   "source": [
    "## 簡繁轉換：opencc-python-reimplemented\n",
    "- [`pip install opencc-python-reimplemented`](https://pypi.org/project/opencc-python-reimplemented/)"
   ]
  },
  {
   "cell_type": "code",
   "execution_count": 1,
   "metadata": {},
   "outputs": [
    {
     "output_type": "execute_result",
     "data": {
      "text/plain": "'開放中文轉換'"
     },
     "metadata": {},
     "execution_count": 1
    }
   ],
   "source": [
    "from opencc import OpenCC\n",
    "\n",
    "cc = OpenCC('s2tw')  \n",
    "to_convert = '开放中文转换'\n",
    "converted = cc.convert(to_convert)\n",
    "converted"
   ]
  },
  {
   "cell_type": "code",
   "execution_count": 2,
   "metadata": {},
   "outputs": [],
   "source": [
    "with open(\"test.txt\", \"r\", encoding=\"utf-8\") as f:\n",
    "    article = f.read()"
   ]
  },
  {
   "cell_type": "code",
   "execution_count": 3,
   "metadata": {},
   "outputs": [
    {
     "output_type": "execute_result",
     "data": {
      "text/plain": "'“居家防疫”措施影響 美至少1/4經濟活動停擺\\n【大紀元2020年04月07日訊】（大紀元記者隋園編譯報導）穆迪分析公司（Moody’s Analytics）為《華爾街日報》所做的一項研究顯示，受各地針對“中共病毒”（武漢肺炎）疫情采取的居家防疫措施影響，全美至少1/4的經濟活動停擺。\\n這項研究是對過去3個星期美國經濟活動情況的最全面分析之一，並列出了受疫情衝擊最嚴重的州和地區。經濟學家稱，儘管疫情導致的全面損失可能需要多年才能評估出來，但各州“關停”措施對商業活動的影響程度是史無前例的。\\n穆迪分析公司對全美所有縣的情況及各縣的產業結構進行了分析，以評估政府防疫措施對經濟產出的影響。隨著各地陸續下達限制“非必須”商業活動的命令，其影響也與日俱增。\\n根據穆迪，全美已有41個州要求至少部分實體關停，以防止疫情進一步蔓延。受此影響，餐館、大學、電影院、公共停車場、時裝店及數百萬其他“非必須”生意“熄燈”。隨之而來的結果是，全美目前每日經濟產出比3月第一個星期大幅下降約29%。\\n不過，穆迪分析公司首席經濟學家贊迪（Mark Zandi）認為每日經濟產出下跌29%的情況不會整個季度都持續，否則第二季度美國國內生產總值（GDP）將下跌75%。贊迪預計許多縣都將在夏季前取消“居家防疫”措施，並預計第二季度美國GDP下跌30%。\\n多數經濟學家預期，隨著確診病例下降及各州解除嚴格防疫措施，經濟產出會在夏季或秋季開始回升。不過，每日產出減少的量級會持續一陣子。\\n停工停業措施主要在人口最多的縣實施，而這些地區提供的產品和服務比例是巨大的。穆迪表示，目前全美每10個縣中有8個實施了封鎖令，但封鎖地區產出佔了全國總產出的96%。\\n贊迪表示，這是天災，無法和上個世紀30年代的大蕭條進行類比。\\n由於上述研究只涵蓋了居家防疫政策截至目前導致的產出損失，其結果遠無法反映總體經濟損失。該研究並未考慮由於大批人口失業及家庭財富損失對家庭和企業支出的影響，會進一步導致產出下降多少的問題。\\n穆迪援引行業分析對沒有受到政府命令直接影響部門所受的衝擊進行了評估。例如，該機構估計全美近90%的旅館停業，而金融服務部門僅10%的業務受到影響。\\n報導稱，此次經濟危機和2007～2009年的衰退不同，當時的危機由需求端引發，先是家庭和企業債務高漲及房市崩潰導致消費支出大幅縮減，最終傷害供給端——企業。這次恰恰相反，作為供給短端的企業先關停，反過來導致家庭受損。'"
     },
     "metadata": {},
     "execution_count": 3
    }
   ],
   "source": [
    "from opencc import OpenCC\n",
    "\n",
    "cc = OpenCC('s2tw')  \n",
    "converted = cc.convert(article)\n",
    "converted"
   ]
  },
  {
   "cell_type": "markdown",
   "metadata": {},
   "source": [
    "## 中文分詞：jieba\n",
    "- [`pip install jieba`](https://github.com/fxsjy/jieba)"
   ]
  },
  {
   "cell_type": "code",
   "execution_count": 4,
   "metadata": {},
   "outputs": [
    {
     "output_type": "stream",
     "name": "stdout",
     "text": "[1st times]下載大辭典\n"
    }
   ],
   "source": [
    "import os\n",
    "from urllib.request import urlretrieve\n",
    "\n",
    "if not os.path.exists(\"dict.txt.big\"):\n",
    "    url = \"https://github.com/fxsjy/jieba/raw/master/extra_dict/dict.txt.big\"\n",
    "    print(\"[1st times]下載大辭典\")\n",
    "    urlretrieve(url, \"dict.txt.big\")"
   ]
  },
  {
   "cell_type": "code",
   "execution_count": 5,
   "metadata": {},
   "outputs": [
    {
     "output_type": "stream",
     "name": "stderr",
     "text": "Building prefix dict from d:\\Python\\GitHube\\Machine_Learning\\chinese_tool\\dict.txt.big ...\nDumping model to file cache C:\\Users\\yalon\\AppData\\Local\\Temp\\jieba.u67fad935147397fff2e2987b60dc5074.cache\nLoading model cost 1.630 seconds.\nPrefix dict has been built successfully.\n"
    },
    {
     "output_type": "execute_result",
     "data": {
      "text/plain": "'“ 居家 防疫 ” 措施 影響   美 至少 1 / 4 經濟活動 停擺 \\n 【 大 紀元 2020 年 04 月 07 日訊 】 （ 大 紀元 記者 隋園 編譯 報導 ） 穆迪 分析 公司 （ Moody ’ s   Analytics ） 為 《 華爾街日報 》 所 做 的 一項 研究 顯示 ， 受 各地 針對 “ 中共病毒 ” （ 武漢肺炎 ） 疫情 采取 的 居家 防疫 措施 影響 ， 全美 至少 1 / 4 的 經濟活動 停擺 。 \\n 這項 研究 是 對 過去 3 個 星期 美國 經濟活動 情況 的 最 全面 分析 之一 ， 並列 出 了 受 疫情 衝擊 最 嚴重 的 州 和 地區 。 經濟學家 稱 ， 儘管 疫情 導致 的 全面 損失 可能 需要 多年 才能 評估 出來 ， 但 各州 “ 關停 ” 措施 對 商業活動 的 影響 程度 是 史無前例 的 。 \\n 穆迪 分析 公司 對 全美 所有 縣 的 情況 及 各縣 的 產業結構 進行 了 分析 ， 以 評估 政府 防疫 措施 對 經濟 產出 的 影響 。 隨著 各地 陸續 下達 限制 “ 非 必須 ” 商業活動 的 命令 ， 其 影響 也 與日俱增 。 \\n 根據 穆迪 ， 全美 已有 41 個州 要求 至少 部分 實體 關停 ， 以 防止 疫情 進一步 蔓延 。 受此 影響 ， 餐館 、 大學 、 電影院 、 公共 停車場 、 時裝店 及 數百萬 其他 “ 非 必須 ” 生意 “ 熄燈 ” 。 隨之而來 的 結果 是 ， 全美 目前 每日 經濟 產出 比 3 月 第一個 星期 大幅 下降 約 29% 。 \\n 不過 ， 穆迪 分析 公司 首席 經濟學家 贊迪 （ Mark   Zandi ） 認為 每日 經濟 產出 下跌 29% 的 情況 不會 整個 季度 都 持續 ， 否則 第二季度 美國 國內 生產總值 （ GDP ） 將 下跌 75% 。 贊迪 預計 許多 縣 都 將在 夏季 前 取消 “ 居家 防疫 ” 措施 ， 並 預計 第二季度 美國 GDP 下跌 30% 。 \\n 多數 經濟學家 預期 ， 隨著 確診 病例 下降 及 各州 解除 嚴格 防疫 措施 ， 經濟 產出 會 在 夏季 或 秋季 開始 回升 。 不過 ， 每日 產出 減少 的 量級 會 持續 一陣子 。 \\n 停工 停業 措施 主要 在 人口 最多 的 縣 實施 ， 而 這些 地區 提供 的 產品 和 服務 比例 是 巨大 的 。 穆迪 表示 ， 目前 全美 每 10 個 縣 中 有 8 個 實施 了 封鎖 令 ， 但 封鎖 地區 產出 佔 了 全國 總產 出 的 96% 。 \\n 贊迪 表示 ， 這是 天災 ， 無法 和 上個世紀 30 年代 的 大 蕭條 進行 類比 。 \\n 由於 上述 研究 只 涵蓋 了 居家 防疫 政策 截至 目前 導致 的 產出 損失 ， 其 結果 遠 無法 反映 總體 經濟損失 。 該 研究 並未 考慮 由於 大批 人口 失業 及 家庭 財富 損失 對 家庭 和 企業 支出 的 影響 ， 會 進一步 導致 產出 下降 多少 的 問題 。 \\n 穆迪 援引 行業 分析 對 沒有 受到 政府 命令 直接 影響 部門 所受 的 衝擊 進行 了 評估 。 例如 ， 該 機構 估計 全美 近 90% 的 旅館 停業 ， 而 金融服務 部門 僅 10% 的 業務 受到 影響 。 \\n 報導 稱 ， 此次 經濟危機 和 2007 ～ 2009 年 的 衰退 不同 ， 當時 的 危機 由 需求端 引發 ， 先是 家庭 和 企業 債務 高漲 及 房市 崩潰 導致 消費支出 大幅 縮減 ， 最終 傷害 供給端 — — 企業 。 這次 恰恰相反 ， 作為 供給 短 端的 企業 先 關停 ， 反過來 導致 家庭 受損 。'"
     },
     "metadata": {},
     "execution_count": 5
    }
   ],
   "source": [
    "import jieba\n",
    "\n",
    "jieba.set_dictionary(\"dict.txt.big\")\n",
    "jieba.load_userdict(\"mydictionary.txt\")\n",
    "\" \".join(jieba.cut(converted))"
   ]
  },
  {
   "cell_type": "code",
   "execution_count": 6,
   "metadata": {},
   "outputs": [
    {
     "output_type": "execute_result",
     "data": {
      "text/plain": "['影響',\n '產出',\n '防疫',\n '導致',\n '穆迪',\n '全美',\n '經濟',\n '企業',\n '措施',\n '居家',\n '經濟活動',\n '美國',\n '情況',\n '地區',\n '經濟學家',\n '損失',\n '評估',\n '關停',\n '進行',\n '贊迪']"
     },
     "metadata": {},
     "execution_count": 6
    }
   ],
   "source": [
    "# 關鍵字`(TF-IDF) = 出現次數 * (1/常用度) \n",
    "from jieba.analyse import extract_tags\n",
    "\n",
    "extract_tags(converted)"
   ]
  }
 ],
 "metadata": {
  "kernelspec": {
   "display_name": "Python 3",
   "language": "python",
   "name": "python3"
  },
  "language_info": {
   "codemirror_mode": {
    "name": "ipython",
    "version": 3
   },
   "file_extension": ".py",
   "mimetype": "text/x-python",
   "name": "python",
   "nbconvert_exporter": "python",
   "pygments_lexer": "ipython3",
   "version": "3.8.2-final"
  }
 },
 "nbformat": 4,
 "nbformat_minor": 4
}