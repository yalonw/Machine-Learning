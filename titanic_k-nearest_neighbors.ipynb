{
 "cells": [
  {
   "cell_type": "markdown",
   "metadata": {},
   "source": [
    "# K-Nearest Neighbors（KNN）"
   ]
  },
  {
   "cell_type": "markdown",
   "metadata": {},
   "source": [
    "## step1: 準備訓練資料"
   ],
   "execution_count": null,
   "outputs": []
  },
  {
   "cell_type": "code",
   "execution_count": 1,
   "metadata": {},
   "outputs": [],
   "source": [
    "import pandas as pd\n",
    "\n",
    "train_df = pd.read_csv(\"titanic/train.csv\", encoding=\"utf-8\")\n",
    "test_df = pd.read_csv(\"titanic/test.csv\", encoding=\"utf-8\")"
   ]
  },
  {
   "cell_type": "markdown",
   "metadata": {},
   "source": [
    "### 觀察特徵類型：\n",
    "- 無用：PassengerId(刪)\n",
    "- 答案：Survived\n",
    "- 數值：Age, SibSp, Parch, Fare\n",
    "- 類別：Pclass, Name(取出稱謂salutation), Sex, Ticket(刪，不知怎麼用), Cabin(刪，缺失值太多), Embarked"
   ],
   "execution_count": null,
   "outputs": []
  },
  {
   "cell_type": "code",
   "execution_count": 2,
   "metadata": {},
   "outputs": [
    {
     "output_type": "execute_result",
     "data": {
      "text/plain": "PassengerId      0\nSurvived         0\nPclass           0\nName             0\nSex              0\nAge            177\nSibSp            0\nParch            0\nTicket           0\nFare             0\nCabin          687\nEmbarked         2\ndtype: int64"
     },
     "metadata": {},
     "execution_count": 2
    }
   ],
   "source": [
    "# 統計每個欄位缺失值（NA）數量：sum(False=0, True=1)\n",
    "train_df.isna().sum()"
   ]
  },
  {
   "cell_type": "code",
   "execution_count": 3,
   "metadata": {},
   "outputs": [],
   "source": [
    "# 填補缺失值_訓練資料：數值型，填中位數\n",
    "med = train_df.median()\n",
    "train_df = train_df.fillna(med)\n",
    "\n",
    "# 填補缺失值_測試資料：數值型，用訓練資料算出來的中位數\n",
    "test_df = test_df.fillna(med)"
   ]
  },
  {
   "cell_type": "code",
   "execution_count": 4,
   "metadata": {},
   "outputs": [],
   "source": [
    "# 填補缺失值_訓練資料：類別型，填出現最多的選項\n",
    "most = train_df[\"Embarked\"].value_counts().idxmax()\n",
    "train_df[\"Embarked\"] = train_df[\"Embarked\"].fillna(most)\n",
    "\n",
    "# 填補缺失值_測試資料：類別型，用訓練資料找出來的的選項\n",
    "test_df[\"Embarked\"] = test_df[\"Embarked\"].fillna(most)"
   ]
  },
  {
   "cell_type": "code",
   "execution_count": 5,
   "metadata": {},
   "outputs": [
    {
     "output_type": "execute_result",
     "data": {
      "text/plain": "Index(['Mr', 'Miss', 'Mrs', 'Master'], dtype='object')"
     },
     "metadata": {},
     "execution_count": 5
    }
   ],
   "source": [
    "def namecut(s):\n",
    "    return s.split(\",\")[-1].split(\".\")[0].strip()\n",
    "\n",
    "# 統計稱謂出現的的次數\n",
    "salutation = train_df[\"Name\"].apply(namecut).value_counts()\n",
    "# 列出數量大於30的稱謂\n",
    "reserved = salutation[salutation > 30].index\n",
    "reserved"
   ]
  },
  {
   "cell_type": "code",
   "execution_count": 6,
   "metadata": {},
   "outputs": [],
   "source": [
    "def namecut_2(s):\n",
    "    s = s.split(\",\")[-1].split(\".\")[0].strip()\n",
    "    if s in reserved:\n",
    "        return s \n",
    "    else:\n",
    "        return None\n",
    "\n",
    "# namecut_2：稱謂數量大於30的保留，小於30的改為None\n",
    "# reserved ：數量大於30的稱謂 = ['Mr', 'Miss', 'Mrs', 'Master']\n",
    "train_df[\"Name\"] = train_df[\"Name\"].apply(namecut_2)\n",
    "test_df[\"Name\"] = test_df[\"Name\"].apply(namecut_2)"
   ]
  },
  {
   "cell_type": "code",
   "execution_count": 7,
   "metadata": {},
   "outputs": [],
   "source": [
    "# 對類別型特徵做 One-Hot Encoding\n",
    "train_raw = pd.get_dummies(train_df, columns=[\"Name\", \"Sex\", \"Embarked\"])\n",
    "test_raw = pd.get_dummies(test_df, columns=[\"Name\", \"Sex\", \"Embarked\"])"
   ]
  },
  {
   "cell_type": "code",
   "execution_count": 8,
   "metadata": {},
   "outputs": [],
   "source": [
    "# 資料清洗 Data Cleansing\n",
    "x_train = train_raw.drop([\"PassengerId\", \"Survived\", \"Ticket\", \"Cabin\"], axis=1)\n",
    "y_train = train_raw[\"Survived\"]\n",
    "x_test = test_raw.drop([\"PassengerId\", \"Ticket\", \"Cabin\"], axis=1)\n",
    "testid = test_raw[\"PassengerId\"]"
   ]
  },
  {
   "cell_type": "markdown",
   "metadata": {},
   "source": [
    "### 資料特徵縮放 Feature Scaling\n",
    "- 和「距離」相關的演算法，為了讓基數/單位一致，所以需要 scaling\n",
    "- 例如：KMeans、KNN"
   ]
  },
  {
   "cell_type": "code",
   "execution_count": 9,
   "metadata": {},
   "outputs": [],
   "source": [
    "# 資料特徵縮放 Feature Scaling\n",
    "from sklearn.preprocessing import MinMaxScaler\n",
    "\n",
    "scaler = MinMaxScaler()\n",
    "x_train_scaler = scaler.fit_transform(x_train)\n",
    "x_test_scaler = scaler.transform(x_test)"
   ]
  },
  {
   "cell_type": "markdown",
   "metadata": {},
   "source": [
    "## step2: 建立訓練模型"
   ]
  },
  {
   "cell_type": "code",
   "execution_count": 10,
   "metadata": {},
   "outputs": [
    {
     "output_type": "stream",
     "name": "stdout",
     "text": "best params:  {'n_neighbors': 22}\nbest score:  0.8193508114856428\n"
    }
   ],
   "source": [
    "from sklearn.neighbors import KNeighborsClassifier\n",
    "from sklearn.model_selection import GridSearchCV\n",
    "\n",
    "clf = KNeighborsClassifier()\n",
    "params = {\n",
    "    \"n_neighbors\":range(5,100)\n",
    "}\n",
    "cv = GridSearchCV(clf, params, cv=10, n_jobs=4)\n",
    "cv.fit(x_train_scaler, y_train)\n",
    "\n",
    "print(\"best params: \", cv.best_params_)\n",
    "print(\"best score: \", cv.best_score_)"
   ]
  },
  {
   "cell_type": "markdown",
   "metadata": {},
   "source": [
    "## step3: 利用模型預測"
   ]
  },
  {
   "cell_type": "code",
   "execution_count": 11,
   "metadata": {},
   "outputs": [
    {
     "output_type": "execute_result",
     "data": {
      "text/plain": "     PassengerId  Survived\n0            892         0\n1            893         1\n2            894         0\n3            895         0\n4            896         1\n..           ...       ...\n413         1305         0\n414         1306         1\n415         1307         0\n416         1308         0\n417         1309         0\n\n[418 rows x 2 columns]",
      "text/html": "<div>\n<style scoped>\n    .dataframe tbody tr th:only-of-type {\n        vertical-align: middle;\n    }\n\n    .dataframe tbody tr th {\n        vertical-align: top;\n    }\n\n    .dataframe thead th {\n        text-align: right;\n    }\n</style>\n<table border=\"1\" class=\"dataframe\">\n  <thead>\n    <tr style=\"text-align: right;\">\n      <th></th>\n      <th>PassengerId</th>\n      <th>Survived</th>\n    </tr>\n  </thead>\n  <tbody>\n    <tr>\n      <th>0</th>\n      <td>892</td>\n      <td>0</td>\n    </tr>\n    <tr>\n      <th>1</th>\n      <td>893</td>\n      <td>1</td>\n    </tr>\n    <tr>\n      <th>2</th>\n      <td>894</td>\n      <td>0</td>\n    </tr>\n    <tr>\n      <th>3</th>\n      <td>895</td>\n      <td>0</td>\n    </tr>\n    <tr>\n      <th>4</th>\n      <td>896</td>\n      <td>1</td>\n    </tr>\n    <tr>\n      <th>...</th>\n      <td>...</td>\n      <td>...</td>\n    </tr>\n    <tr>\n      <th>413</th>\n      <td>1305</td>\n      <td>0</td>\n    </tr>\n    <tr>\n      <th>414</th>\n      <td>1306</td>\n      <td>1</td>\n    </tr>\n    <tr>\n      <th>415</th>\n      <td>1307</td>\n      <td>0</td>\n    </tr>\n    <tr>\n      <th>416</th>\n      <td>1308</td>\n      <td>0</td>\n    </tr>\n    <tr>\n      <th>417</th>\n      <td>1309</td>\n      <td>0</td>\n    </tr>\n  </tbody>\n</table>\n<p>418 rows × 2 columns</p>\n</div>"
     },
     "metadata": {},
     "execution_count": 11
    }
   ],
   "source": [
    "pre = cv.best_estimator_.predict(x_test_scaler)\n",
    "result_df = pd.DataFrame({\n",
    "    \"PassengerId\":testid,\n",
    "    \"Survived\":pre\n",
    "})\n",
    "result_df.to_csv(\"titanic/predict_result_KNN.csv\", index=False, encoding=\"utf-8\")\n",
    "result_df"
   ]
  }
 ],
 "metadata": {
  "kernelspec": {
   "display_name": "Python 3",
   "language": "python",
   "name": "python3"
  },
  "language_info": {
   "codemirror_mode": {
    "name": "ipython",
    "version": 3
   },
   "file_extension": ".py",
   "mimetype": "text/x-python",
   "name": "python",
   "nbconvert_exporter": "python",
   "pygments_lexer": "ipython3",
   "version": "3.8.2-final"
  }
 },
 "nbformat": 4,
 "nbformat_minor": 4
}